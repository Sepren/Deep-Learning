{
  "nbformat": 4,
  "nbformat_minor": 0,
  "metadata": {
    "colab": {
      "provenance": [],
      "include_colab_link": true
    },
    "kernelspec": {
      "name": "python3",
      "display_name": "Python 3"
    }
  },
  "cells": [
    {
      "cell_type": "markdown",
      "metadata": {
        "id": "view-in-github",
        "colab_type": "text"
      },
      "source": [
        "<a href=\"https://colab.research.google.com/github/Sepren/Deep-Learning/blob/main/5_laba.ipynb\" target=\"_parent\"><img src=\"https://colab.research.google.com/assets/colab-badge.svg\" alt=\"Open In Colab\"/></a>"
      ]
    },
    {
      "cell_type": "markdown",
      "metadata": {
        "id": "q9QLe_T6GZUd"
      },
      "source": [
        "# RL"
      ]
    },
    {
      "cell_type": "markdown",
      "metadata": {
        "id": "EYlIf2yHv8hz"
      },
      "source": [
        "**Выполнять задание следует с текущими значениями гиперпараметров. Для проверки ниже будут приведены ответы, которые должны получиться в результате выполнения задания.**\n",
        "\n",
        "После того, как заявленные значения совпадут и будут получены работающие модели выполните следующие задания:\n",
        "\n",
        "1. **Базовая часть (3 балла):** исследуйте влияние параметров `gamma, lr_rate, epsilon` на обучение моделей. Постройте графики.\n",
        "2. **Опциональная часть (+2 балла):** Реализуйте остальные стратегии выбора действий (softmax, UCB, оптимистичные начальные оценки), описанные в лекции. Визуализируйте результаты."
      ]
    },
    {
      "cell_type": "markdown",
      "metadata": {
        "id": "ZDQzNIZXAoFE"
      },
      "source": [
        "Зададим гиперпараметры модели"
      ]
    },
    {
      "cell_type": "code",
      "metadata": {
        "id": "NOMw2ZbOAmOZ"
      },
      "source": [
        "epsilon = 0.1 # Параметр эпсилон при использовании эпсилон жадной стратегии\n",
        "gamma = 0.8 # Коэффциент дисконтирования гамма\n",
        "random_seed = 100 #Random seed\n",
        "time_delay = 1 # Задержка времени при отрисовке процесса игры после обучения (секунды)\n",
        "lr_rate = 0.9 #Коэффициент скорости обучения альфа"
      ],
      "execution_count": 1,
      "outputs": []
    },
    {
      "cell_type": "markdown",
      "metadata": {
        "id": "pQu5IYHX8jId"
      },
      "source": [
        "Импортируем библиотеки, создаем свою среду размера 6х6. S обозначает точку старта. F -- лед безопасен, H -- проталина, G -- цель. Параметр `is_slippery=False` отвечает за условное отсутствие скольжения. То есть если агент выбрал действие пойти направо, то он переместится в соответствующее состояние. В общем случае из-за \"скольжения\" можно оказаться в другом состоянии. Мы также скопировали из библиотки GYM и слегка модифицировали функцию ```generate_random_map ```, для того, чтобы генерировать произвольные карты на основе ```random_seed ```.\n",
        "\n",
        "\n",
        "\n"
      ]
    },
    {
      "cell_type": "code",
      "source": [
        "# Установим нужную версию библиотеки gym\n",
        "!git clone https://github.com/dvolchek/gym_0_18_0.git -q\n",
        "%cd /content/gym_0_18_0\n",
        "!pip install -e. -q"
      ],
      "metadata": {
        "colab": {
          "base_uri": "https://localhost:8080/"
        },
        "id": "NjKH2tVSK2m0",
        "outputId": "218a5bb3-f4bf-45cd-fe80-41a520131919"
      },
      "execution_count": 2,
      "outputs": [
        {
          "output_type": "stream",
          "name": "stdout",
          "text": [
            "/content/gym_0_18_0\n",
            "  Preparing metadata (setup.py) ... \u001b[?25l\u001b[?25hdone\n"
          ]
        }
      ]
    },
    {
      "cell_type": "code",
      "metadata": {
        "id": "awL7CCCwD6C3",
        "outputId": "f988b0bd-8f80-436f-9922-224334b9a53c",
        "colab": {
          "base_uri": "https://localhost:8080/"
        }
      },
      "source": [
        "import gym\n",
        "import numpy as np\n",
        "import time\n",
        "from IPython.display import clear_output\n",
        "\n",
        "\n",
        "def generate_random_map(size, p, sd):\n",
        "    \"\"\"Generates a random valid map (one that has a path from start to goal)\n",
        "    :param size: size of each side of the grid\n",
        "    :param p: probability that a tile is frozen\n",
        "    \"\"\"\n",
        "    valid = False\n",
        "    np.random.seed(sd)\n",
        "\n",
        "    # DFS to check that it's a valid path.\n",
        "    def is_valid(res):\n",
        "        frontier, discovered = [], set()\n",
        "        frontier.append((0,0))\n",
        "        while frontier:\n",
        "            r, c = frontier.pop()\n",
        "            if not (r,c) in discovered:\n",
        "                discovered.add((r,c))\n",
        "                directions = [(1, 0), (0, 1), (-1, 0), (0, -1)]\n",
        "                for x, y in directions:\n",
        "                    r_new = r + x\n",
        "                    c_new = c + y\n",
        "                    if r_new < 0 or r_new >= size or c_new < 0 or c_new >= size:\n",
        "                        continue\n",
        "                    if res[r_new][c_new] == 'G':\n",
        "                        return True\n",
        "                    if (res[r_new][c_new] not in '#H'):\n",
        "                        frontier.append((r_new, c_new))\n",
        "        return False\n",
        "\n",
        "    while not valid:\n",
        "        p = min(1, p)\n",
        "        res = np.random.choice(['F', 'H'], (size, size), p=[p, 1-p])\n",
        "        res[0][0] = 'S'\n",
        "        res[-1][-1] = 'G'\n",
        "        valid = is_valid(res)\n",
        "    return [\"\".join(x) for x in res]\n",
        "\n",
        "#Генерация карты\n",
        "random_map = generate_random_map(size=6, p=0.8, sd = random_seed) #Создаем свою карту\n",
        "env = gym.make(\"FrozenLake-v0\", desc=random_map, is_slippery=False) #Инициализируем среду\n",
        "print(\"Ваша карта\")\n",
        "env.render() #Выводим карту на экран"
      ],
      "execution_count": 3,
      "outputs": [
        {
          "output_type": "stream",
          "name": "stdout",
          "text": [
            "Ваша карта\n",
            "\n",
            "\u001b[41mS\u001b[0mFFHFF\n",
            "FHFFHF\n",
            "FFFHHF\n",
            "HFFHHF\n",
            "FFFFFF\n",
            "FFFFFG\n"
          ]
        }
      ]
    },
    {
      "cell_type": "markdown",
      "metadata": {
        "id": "MDCexoEU9a_c"
      },
      "source": [
        "Функции выбора действия и обновления таблицы ценности действий. Строчка *** используется для того, чтобы проверять ответы в openedx. Вне рамках академической задачи лучше использовать оригинальный метод класса `environment`, то есть:\n",
        "\n",
        "`action = env.action_space.sample()`"
      ]
    },
    {
      "cell_type": "markdown",
      "metadata": {
        "id": "D5TbDqn6G_Pt"
      },
      "source": [
        "# Задача 1\n",
        "Дополните функцию ```learn()```, чтобы в результате ее вызова обновлялось значение ценности текущего действия согласно алгоритму Q-обучения\n",
        "\n"
      ]
    },
    {
      "cell_type": "code",
      "metadata": {
        "id": "CdQBpxaTOK7u"
      },
      "source": [
        "def choose_action(state):\n",
        "    action = 0\n",
        "    if np.random.uniform(0, 1) < epsilon:\n",
        "        action = np.random.randint(0, env.action_space.n) # Случайное действие\n",
        "    else:\n",
        "        action = np.random.choice(np.array(np.argwhere(Q[state, :] == np.amax(Q[state, :])).flatten().tolist()))\n",
        "    return action\n",
        "\n",
        "def learn(state, state2, reward, action, done):\n",
        "    if not done:\n",
        "        max_future_q = np.max(Q[state2, :])\n",
        "    else:\n",
        "        max_future_q = 0\n",
        "\n",
        "    current_q = Q[state, action]\n",
        "    target_q = reward + gamma * max_future_q\n",
        "    Q[state, action] = current_q + lr_rate * (target_q - current_q)"
      ],
      "execution_count": 4,
      "outputs": []
    },
    {
      "cell_type": "markdown",
      "metadata": {
        "id": "7COGeyA_Ist3"
      },
      "source": [
        "# Задача 2\n",
        "Дополните следующий код так, чтобы в результате обучения модели можно было узнать количество побед и номер игры (`game`), на котором агент впервые одержал пятую победу подряд."
      ]
    },
    {
      "cell_type": "markdown",
      "metadata": {
        "id": "0adDl7NvJoQP"
      },
      "source": [
        "Поясним, что возвращает функция ```env.step(action)```\n",
        "\n",
        "```state2``` -- следующее состояние\n",
        "\n",
        "```reward``` -- награда\n",
        "\n",
        "```done``` -- флаг окончания игры. True в случае победы или падения в проталину. False в остальных случаях.\n",
        "\n",
        "\n"
      ]
    },
    {
      "cell_type": "code",
      "metadata": {
        "id": "aq92-dWiOchF",
        "colab": {
          "base_uri": "https://localhost:8080/"
        },
        "outputId": "22a66ac7-874b-498e-d76a-b386931b7235"
      },
      "source": [
        "from tqdm import tqdm\n",
        "# Initialization\n",
        "np.random.seed(random_seed)\n",
        "total_games = 10000\n",
        "max_steps = 100\n",
        "Q = np.zeros((env.observation_space.n, env.action_space.n))\n",
        "wins = 0  # Счетчик общего количества побед\n",
        "consecutive_wins = 0  # Счетчик последовательных побед\n",
        "first_five_wins_game = None  # Номер игры с первыми пятью победами подряд\n",
        "\n",
        "# Main cycle\n",
        "for game in tqdm(range(total_games)):\n",
        "    state = env.reset()\n",
        "    t = 0\n",
        "    while t < max_steps:\n",
        "        t += 1\n",
        "        action = choose_action(state)\n",
        "        state2, reward, done, info = env.step(action)\n",
        "        if t == max_steps:\n",
        "            done = True\n",
        "        learn(state, state2, reward, action, done)\n",
        "        state = state2\n",
        "        if done:\n",
        "            # Проверяем, является ли завершение победой\n",
        "            if reward == 1:\n",
        "                wins += 1\n",
        "                consecutive_wins += 1\n",
        "                # Если достигнуто 5 побед подряд и это первый раз\n",
        "                if consecutive_wins >= 5 and first_five_wins_game is None:\n",
        "                    first_five_wins_game = game + 1  # +1, так как game начинается с 0\n",
        "            else:\n",
        "                consecutive_wins = 0  # Сбрасываем при проигрыше\n",
        "            break\n",
        "\n",
        "# Вывод результатов\n",
        "print(\"Количество побед в серии из 10 000 игр: \", wins)\n",
        "print(\"Пять побед подряд впервые было одержано в игре \", first_five_wins_game)"
      ],
      "execution_count": 5,
      "outputs": [
        {
          "output_type": "stream",
          "name": "stderr",
          "text": [
            "100%|██████████| 10000/10000 [00:05<00:00, 1812.32it/s]"
          ]
        },
        {
          "output_type": "stream",
          "name": "stdout",
          "text": [
            "Количество побед в серии из 10 000 игр:  7914\n",
            "Пять побед подряд впервые было одержано в игре  885\n"
          ]
        },
        {
          "output_type": "stream",
          "name": "stderr",
          "text": [
            "\n"
          ]
        }
      ]
    },
    {
      "cell_type": "markdown",
      "metadata": {
        "id": "JFuxsqdRLOS9"
      },
      "source": [
        "Вывод ответов при заданных параметрах"
      ]
    },
    {
      "cell_type": "code",
      "metadata": {
        "id": "xZbJtFnhLa7w",
        "colab": {
          "base_uri": "https://localhost:8080/"
        },
        "outputId": "fc2923ca-117b-4144-cfab-058b861dd842"
      },
      "source": [
        "# Вывод результатов\n",
        "print(\"Количество побед в серии из 10 000 игр: \", wins)\n",
        "print(\"Пять побед подряд впервые было одержано в игре \", first_five_wins_game)"
      ],
      "execution_count": 6,
      "outputs": [
        {
          "output_type": "stream",
          "name": "stdout",
          "text": [
            "Количество побед в серии из 10 000 игр:  7914\n",
            "Пять побед подряд впервые было одержано в игре  885\n"
          ]
        }
      ]
    },
    {
      "cell_type": "markdown",
      "metadata": {
        "id": "TSXdSiG2WI71"
      },
      "source": [
        "Должны получиться следующие результаты.\n",
        "\n",
        "\n",
        "*  Количество побед в серии из 10 000 игр:  7914\n",
        "*  Пять побед подряд впервые было одержано в игре  885\n",
        "\n",
        "\n"
      ]
    },
    {
      "cell_type": "markdown",
      "metadata": {
        "id": "nazZaAbwQGBt"
      },
      "source": [
        "Произведем одну игру, чтобы проследить за действиями агента. При этом будем считать модель полностью обученной, то есть действия выбираются жадно, значения ценностей действий в таблице не обновляются."
      ]
    },
    {
      "cell_type": "code",
      "metadata": {
        "id": "5ysllZjEQXLa",
        "outputId": "7a180a8b-4744-4b8b-84f3-b3a2244a6db7",
        "colab": {
          "base_uri": "https://localhost:8080/"
        }
      },
      "source": [
        "import time\n",
        "#Жадный выбор действий\n",
        "def choose_action_one_game(state):\n",
        "    action = np.random.choice(np.array(np.argwhere(Q[state, :] == np.amax(Q[state, :])).flatten().tolist()))\n",
        "    return action\n",
        "\n",
        "states=[]#Массив для сохранения состояний агента в течение игры\n",
        "t = 0\n",
        "state = env.reset()\n",
        "wn = 0\n",
        "while(t<100):\n",
        "  env.render()\n",
        "  time.sleep(time_delay)\n",
        "  clear_output(wait=True)\n",
        "  action = choose_action_one_game(state)\n",
        "  state2, reward, done, info = env.step(action)\n",
        "  states.append(state)\n",
        "  state = state2\n",
        "  t += 1\n",
        "  if done and reward == 1:\n",
        "    wn=1\n",
        "  if done:\n",
        "    break\n",
        "if wn == 1:\n",
        "  print(\"!!!Победа!!!\")"
      ],
      "execution_count": 7,
      "outputs": [
        {
          "output_type": "stream",
          "name": "stdout",
          "text": [
            "!!!Победа!!!\n"
          ]
        }
      ]
    },
    {
      "cell_type": "markdown",
      "metadata": {
        "id": "x696NulpReFI"
      },
      "source": [
        "Отобразим маршрут"
      ]
    },
    {
      "cell_type": "code",
      "metadata": {
        "id": "UKMCMdpOTcXy",
        "outputId": "eec4f8ac-0836-4c71-d5d5-d730b64140f2",
        "colab": {
          "base_uri": "https://localhost:8080/",
          "height": 503
        }
      },
      "source": [
        "import matplotlib.pyplot as plt\n",
        "\n",
        "def make_maze_pic(maze):\n",
        "  maze_pic=[]\n",
        "  for i in range(len(maze)):\n",
        "    row = []\n",
        "    for j in range(len(maze[i])):\n",
        "      if maze[i][j] == 'S':\n",
        "        row.append(0)\n",
        "      if maze[i][j] == 'F':\n",
        "        row.append(0)\n",
        "      if maze[i][j] == 'H':\n",
        "        row.append(1)\n",
        "      if maze[i][j] == 'G':\n",
        "        row.append(0)\n",
        "    maze_pic.append(row)\n",
        "  maze_pic = np.array(maze_pic)\n",
        "  return maze_pic\n",
        "\n",
        "\n",
        "#Make maze fit to plot\n",
        "maze_pic = make_maze_pic(random_map)\n",
        "nrows, ncols = maze_pic.shape\n",
        "\n",
        "#Arrays of picture elements\n",
        "rw = np.remainder(states,nrows)\n",
        "cl = np.floor_divide(states,nrows)\n",
        "if wn == 1:\n",
        "  rw = np.append(rw, [nrows-1])\n",
        "  cl = np.append(cl,[ncols-1])\n",
        "\n",
        "#Picture plotting\n",
        "fig, ax1 = plt.subplots(1, 1, tight_layout=True)\n",
        "ax1.clear()\n",
        "ax1.set_xticks(np.arange(0.5, nrows, step=1))\n",
        "ax1.set_xticklabels([])\n",
        "ax1.set_yticks(np.arange(0.5, ncols, step=1))\n",
        "ax1.set_yticklabels([])\n",
        "ax1.grid(True)\n",
        "ax1.plot([0],[0], \"gs\", markersize=40)  # start is a big green square\n",
        "ax1.text(0, 0.2,\"Start\", ha=\"center\", va=\"center\", color=\"white\", fontsize=12) #Start text\n",
        "ax1.plot([nrows-1],[ncols-1], \"rs\", markersize=40)  # exit is a big red square\n",
        "ax1.text(nrows-1, ncols-1+0.2,\"Finish\", ha=\"center\", va=\"center\", color=\"white\", fontsize=12) #Exit text\n",
        "ax1.plot(rw,cl, ls = '-', color = 'blue') #Blue lines path\n",
        "ax1.plot(rw,cl, \"bo\")  # Blue dots visited cells\n",
        "ax1.imshow(maze_pic, cmap=\"binary\")"
      ],
      "execution_count": 8,
      "outputs": [
        {
          "output_type": "execute_result",
          "data": {
            "text/plain": [
              "<matplotlib.image.AxesImage at 0x7a1450879c10>"
            ]
          },
          "metadata": {},
          "execution_count": 8
        },
        {
          "output_type": "display_data",
          "data": {
            "text/plain": [
              "<Figure size 640x480 with 1 Axes>"
            ],
            "image/png": "[encoded data removed]"
          },
          "metadata": {}
        }
      ]
    },
    {
      "cell_type": "markdown",
      "metadata": {
        "id": "5m14YFyrI6M0"
      },
      "source": [
        "# Задача 3"
      ]
    },
    {
      "cell_type": "markdown",
      "metadata": {
        "id": "lb3BvDuBxTO0"
      },
      "source": [
        "Используйте вместо алгоритма Q-обучения алгоритм SARSA. Обратите внимание на то, что требуется изменить количество игр. То есть `total_games = 40000`. Запускать блоки следует последвательно с самого начала (из-за `random_seed`). Отдельно обращаем ваше внимание на то, что при изменении алгоритма с Q-обучения на SARSA модификации подлежит как процесс обучения, так и функция `learn()`. Кроме того, у функции `learn()` должен появиться дополнительный аргумент (следующее действие). Ниже приведен фрагмент кода с пояснениями, как именно нужно модифицировать алгоритм.\n",
        "\n"
      ]
    },
    {
      "cell_type": "code",
      "source": [
        "def learn(state, state2, reward, action, action2, done):\n",
        "    if not done:\n",
        "        # Используем Q-значение для следующего состояния и действия\n",
        "        next_q = Q[state2, action2]\n",
        "    else:\n",
        "        # Если эпизод завершен, будущая награда равна 0\n",
        "        next_q = 0\n",
        "\n",
        "    # Текущее Q-значение\n",
        "    current_q = Q[state, action]\n",
        "\n",
        "    # Вычисляем целевое Q-значение по формуле SARSA\n",
        "    target_q = reward + gamma * next_q\n",
        "\n",
        "    # Обновляем Q-значение\n",
        "    Q[state, action] = current_q + lr_rate * (target_q - current_q)"
      ],
      "metadata": {
        "id": "2nE6E8Grjt0_"
      },
      "execution_count": 9,
      "outputs": []
    },
    {
      "cell_type": "code",
      "metadata": {
        "id": "CSVpTwTAJO7d",
        "colab": {
          "base_uri": "https://localhost:8080/"
        },
        "outputId": "5910f7f2-a284-4c26-bfca-fc3ba4a02a3f"
      },
      "source": [
        "from tqdm import tqdm\n",
        "# Initialization\n",
        "np.random.seed(random_seed)\n",
        "total_games = 40000\n",
        "max_steps = 100\n",
        "Q = np.zeros((env.observation_space.n, env.action_space.n))\n",
        "wins = 0  # Счетчик общего количества побед\n",
        "consecutive_wins = 0  # Счетчик последовательных побед\n",
        "first_five_wins_game = None  # Номер игры с первыми пятью победами подряд\n",
        "\n",
        "# Main cycle\n",
        "for game in tqdm(range(total_games)):\n",
        "    state = env.reset()\n",
        "    action = choose_action(state)  # Выбираем начальное действие\n",
        "    t = 0\n",
        "    while t < max_steps:\n",
        "        t += 1\n",
        "        state2, reward, done, info = env.step(action)\n",
        "        action2 = choose_action(state2)  # Выбираем следующее действие\n",
        "        if t == max_steps:\n",
        "            done = True\n",
        "        learn(state, state2, reward, action, action2, done)\n",
        "        state = state2\n",
        "        action = action2  # Обновляем текущее действие\n",
        "        if done:\n",
        "            if reward == 1:\n",
        "                wins += 1\n",
        "                consecutive_wins += 1\n",
        "                if consecutive_wins >= 5 and first_five_wins_game is None:\n",
        "                    first_five_wins_game = game + 1\n",
        "            else:\n",
        "                consecutive_wins = 0\n",
        "            break\n",
        "\n"
      ],
      "execution_count": 10,
      "outputs": [
        {
          "output_type": "stream",
          "name": "stderr",
          "text": [
            "100%|██████████| 40000/40000 [00:27<00:00, 1458.72it/s]\n"
          ]
        }
      ]
    },
    {
      "cell_type": "code",
      "source": [
        "# Вывод результатов\n",
        "print(\"Количество побед в серии из 40 000 игр: \", wins)\n",
        "print(\"Пять побед подряд впервые было одержано в игре \", first_five_wins_game)"
      ],
      "metadata": {
        "colab": {
          "base_uri": "https://localhost:8080/"
        },
        "id": "f6wI_gDKj0-E",
        "outputId": "747f6acf-1686-412f-efe8-2f95860c2b3a"
      },
      "execution_count": 11,
      "outputs": [
        {
          "output_type": "stream",
          "name": "stdout",
          "text": [
            "Количество побед в серии из 40 000 игр:  32328\n",
            "Пять побед подряд впервые было одержано в игре  894\n"
          ]
        }
      ]
    },
    {
      "cell_type": "markdown",
      "metadata": {
        "id": "RB_PX2vYIY0-"
      },
      "source": [
        ". В результате обучения должны получиться следующие ответы:\n",
        "\n",
        "\n",
        "\n",
        "*   Количество побед в серии из 40 000 игр:  32328\n",
        "*   Пять побед подряд впервые было одержано в игре  894"
      ]
    },
    {
      "cell_type": "code",
      "source": [
        "import time\n",
        "#Жадный выбор действий\n",
        "def choose_action_one_game(state):\n",
        "    action = np.random.choice(np.array(np.argwhere(Q[state, :] == np.amax(Q[state, :])).flatten().tolist()))\n",
        "    return action\n",
        "\n",
        "states=[]#Массив для сохранения состояний агента в течение игры\n",
        "t = 0\n",
        "state = env.reset()\n",
        "wn = 0\n",
        "while(t<100):\n",
        "  env.render()\n",
        "  time.sleep(time_delay)\n",
        "  clear_output(wait=True)\n",
        "  action = choose_action_one_game(state)\n",
        "  state2, reward, done, info = env.step(action)\n",
        "  states.append(state)\n",
        "  state = state2\n",
        "  t += 1\n",
        "  if done and reward == 1:\n",
        "    wn=1\n",
        "  if done:\n",
        "    break\n",
        "if wn == 1:\n",
        "  print(\"!!!Победа!!!\")"
      ],
      "metadata": {
        "colab": {
          "base_uri": "https://localhost:8080/"
        },
        "id": "lO1dYCh7lZ0I",
        "outputId": "aa6b4af6-856d-4a9d-f7b8-0fde01dde178"
      },
      "execution_count": 12,
      "outputs": [
        {
          "output_type": "stream",
          "name": "stdout",
          "text": [
            "!!!Победа!!!\n"
          ]
        }
      ]
    },
    {
      "cell_type": "code",
      "source": [
        "import matplotlib.pyplot as plt\n",
        "\n",
        "def make_maze_pic(maze):\n",
        "  maze_pic=[]\n",
        "  for i in range(len(maze)):\n",
        "    row = []\n",
        "    for j in range(len(maze[i])):\n",
        "      if maze[i][j] == 'S':\n",
        "        row.append(0)\n",
        "      if maze[i][j] == 'F':\n",
        "        row.append(0)\n",
        "      if maze[i][j] == 'H':\n",
        "        row.append(1)\n",
        "      if maze[i][j] == 'G':\n",
        "        row.append(0)\n",
        "    maze_pic.append(row)\n",
        "  maze_pic = np.array(maze_pic)\n",
        "  return maze_pic\n",
        "\n",
        "\n",
        "#Make maze fit to plot\n",
        "maze_pic = make_maze_pic(random_map)\n",
        "nrows, ncols = maze_pic.shape\n",
        "\n",
        "#Arrays of picture elements\n",
        "rw = np.remainder(states,nrows)\n",
        "cl = np.floor_divide(states,nrows)\n",
        "if wn == 1:\n",
        "  rw = np.append(rw, [nrows-1])\n",
        "  cl = np.append(cl,[ncols-1])\n",
        "\n",
        "#Picture plotting\n",
        "fig, ax1 = plt.subplots(1, 1, tight_layout=True)\n",
        "ax1.clear()\n",
        "ax1.set_xticks(np.arange(0.5, nrows, step=1))\n",
        "ax1.set_xticklabels([])\n",
        "ax1.set_yticks(np.arange(0.5, ncols, step=1))\n",
        "ax1.set_yticklabels([])\n",
        "ax1.grid(True)\n",
        "ax1.plot([0],[0], \"gs\", markersize=40)  # start is a big green square\n",
        "ax1.text(0, 0.2,\"Start\", ha=\"center\", va=\"center\", color=\"white\", fontsize=12) #Start text\n",
        "ax1.plot([nrows-1],[ncols-1], \"rs\", markersize=40)  # exit is a big red square\n",
        "ax1.text(nrows-1, ncols-1+0.2,\"Finish\", ha=\"center\", va=\"center\", color=\"white\", fontsize=12) #Exit text\n",
        "ax1.plot(rw,cl, ls = '-', color = 'blue') #Blue lines path\n",
        "ax1.plot(rw,cl, \"bo\")  # Blue dots visited cells\n",
        "ax1.imshow(maze_pic, cmap=\"binary\")"
      ],
      "metadata": {
        "colab": {
          "base_uri": "https://localhost:8080/",
          "height": 503
        },
        "id": "70oeO1mKlZjm",
        "outputId": "1e62217c-d77f-41ca-d95e-294f080a71d4"
      },
      "execution_count": 13,
      "outputs": [
        {
          "output_type": "execute_result",
          "data": {
            "text/plain": [
              "<matplotlib.image.AxesImage at 0x7a145066c0d0>"
            ]
          },
          "metadata": {},
          "execution_count": 13
        },
        {
          "output_type": "display_data",
          "data": {
            "text/plain": [
              "<Figure size 640x480 with 1 Axes>"
            ],
            "image/png": "[encoded data removed]"
          },
          "metadata": {}
        }
      ]
    },
    {
      "cell_type": "code",
      "source": [],
      "metadata": {
        "id": "3qVj4iQElgV-"
      },
      "execution_count": null,
      "outputs": []
    },
    {
      "cell_type": "code",
      "source": [
        "import gym\n",
        "import numpy as np\n",
        "from tqdm import tqdm\n",
        "import matplotlib.pyplot as plt"
      ],
      "metadata": {
        "id": "0zGwL2rtmFYr"
      },
      "execution_count": 14,
      "outputs": []
    },
    {
      "cell_type": "code",
      "source": [
        "# Функция для генерации карты (из блокнота)\n",
        "def generate_random_map(size, p, sd):\n",
        "    valid = False\n",
        "    np.random.seed(sd)\n",
        "    def is_valid(res):\n",
        "        frontier, discovered = [], set()\n",
        "        frontier.append((0,0))\n",
        "        while frontier:\n",
        "            r, c = frontier.pop()\n",
        "            if not (r,c) in discovered:\n",
        "                discovered.add((r,c))\n",
        "                directions = [(1, 0), (0, 1), (-1, 0), (0, -1)]\n",
        "                for x, y in directions:\n",
        "                    r_new = r + x\n",
        "                    c_new = c + y\n",
        "                    if r_new < 0 or r_new >= size or c_new < 0 or c_new >= size:\n",
        "                        continue\n",
        "                    if res[r_new][c_new] == 'G':\n",
        "                        return True\n",
        "                    if (res[r_new][c_new] not in '#H'):\n",
        "                        frontier.append((r_new, c_new))\n",
        "        return False\n",
        "    while not valid:\n",
        "        p = min(1, p)\n",
        "        res = np.random.choice(['F', 'H'], (size, size), p=[p, 1-p])\n",
        "        res[0][0] = 'S'\n",
        "        res[-1][-1] = 'G'\n",
        "        valid = is_valid(res)\n",
        "    return [\"\".join(x) for x in res]\n",
        "\n"
      ],
      "metadata": {
        "id": "5dikrMo8mKml"
      },
      "execution_count": 15,
      "outputs": []
    },
    {
      "cell_type": "code",
      "source": [
        "# Инициализация среды\n",
        "random_seed = 100\n",
        "np.random.seed(random_seed)\n",
        "random_map = generate_random_map(size=6, p=0.8, sd=random_seed)\n",
        "env = gym.make(\"FrozenLake-v0\", desc=random_map, is_slippery=False)\n",
        "\n"
      ],
      "metadata": {
        "id": "9oUo9dYYmKgu"
      },
      "execution_count": 16,
      "outputs": []
    },
    {
      "cell_type": "code",
      "source": [
        "# Функции\n",
        "def choose_action(state, epsilon):\n",
        "    action = 0\n",
        "    if np.random.uniform(0, 1) < epsilon:\n",
        "        action = np.random.randint(0, env.action_space.n)\n",
        "    else:\n",
        "        action = np.random.choice(np.array(np.argwhere(Q[state, :] == np.amax(Q[state, :])).flatten().tolist()))\n",
        "    return action\n",
        "\n"
      ],
      "metadata": {
        "id": "0yh4FgfxmKa2"
      },
      "execution_count": 17,
      "outputs": []
    },
    {
      "cell_type": "code",
      "source": [
        "def learn(state, state2, reward, action, done, gamma, lr_rate):\n",
        "    if not done:\n",
        "        max_future_q = np.max(Q[state2, :])\n",
        "    else:\n",
        "        max_future_q = 0\n",
        "    current_q = Q[state, action]\n",
        "    target_q = reward + gamma * max_future_q\n",
        "    Q[state, action] = current_q + lr_rate * (target_q - current_q)\n",
        "\n"
      ],
      "metadata": {
        "id": "bf4GoOk6mKVP"
      },
      "execution_count": 18,
      "outputs": []
    },
    {
      "cell_type": "code",
      "source": [
        "# Функция для запуска обучения с заданными гиперпараметрами\n",
        "def run_experiment(gamma, lr_rate, epsilon):\n",
        "    np.random.seed(random_seed)\n",
        "    total_games = 10000\n",
        "    max_steps = 100\n",
        "    global Q  # Q-таблица глобальная, чтобы не пересоздавать\n",
        "    Q = np.zeros((env.observation_space.n, env.action_space.n))\n",
        "    wins = 0\n",
        "    consecutive_wins = 0\n",
        "    first_five_wins_game = None\n",
        "\n",
        "    for game in tqdm(range(total_games)):\n",
        "        state = env.reset()\n",
        "        t = 0\n",
        "        while t < max_steps:\n",
        "            t += 1\n",
        "            action = choose_action(state, epsilon)\n",
        "            state2, reward, done, info = env.step(action)\n",
        "            if t == max_steps:\n",
        "                done = True\n",
        "            learn(state, state2, reward, action, done, gamma, lr_rate)\n",
        "            state = state2\n",
        "            if done:\n",
        "                if reward == 1:\n",
        "                    wins += 1\n",
        "                    consecutive_wins += 1\n",
        "                    if consecutive_wins >= 5 and first_five_wins_game is None:\n",
        "                        first_five_wins_game = game + 1\n",
        "                else:\n",
        "                    consecutive_wins = 0\n",
        "                break\n",
        "    return wins, first_five_wins_game\n",
        "\n"
      ],
      "metadata": {
        "id": "IsYIOnyamKP0"
      },
      "execution_count": 19,
      "outputs": []
    },
    {
      "cell_type": "code",
      "source": [
        "# Эксперименты\n",
        "gamma_values = [0.1, 0.5, 0.8, 0.9, 0.99]\n",
        "lr_rate_values = [0.1, 0.3, 0.5, 0.7, 0.9]\n",
        "epsilon_values = [0.01, 0.05, 0.1, 0.2, 0.3]\n",
        "\n",
        "# Списки для хранения результатов\n",
        "gamma_wins = []\n",
        "lr_rate_wins = []\n",
        "epsilon_wins = []\n",
        "\n",
        "# Эксперимент 1: варьируем gamma\n",
        "for gamma in gamma_values:\n",
        "    wins, _ = run_experiment(gamma=gamma, lr_rate=0.9, epsilon=0.1)\n",
        "    gamma_wins.append(wins)\n",
        "    print(f\"gamma={gamma}: {wins} побед\")\n",
        "\n",
        "# Эксперимент 2: варьируем lr_rate\n",
        "for lr_rate in lr_rate_values:\n",
        "    wins, _ = run_experiment(gamma=0.8, lr_rate=lr_rate, epsilon=0.1)\n",
        "    lr_rate_wins.append(wins)\n",
        "    print(f\"lr_rate={lr_rate}: {wins} побед\")\n",
        "\n",
        "# Эксперимент 3: варьируем epsilon\n",
        "for epsilon in epsilon_values:\n",
        "    wins, _ = run_experiment(gamma=0.8, lr_rate=0.9, epsilon=epsilon)\n",
        "    epsilon_wins.append(wins)\n",
        "    print(f\"epsilon={epsilon}: {wins} побед\")\n",
        "\n",
        "# Построение графиков\n",
        "plt.figure(figsize=(15, 5))\n",
        "\n",
        "# График для gamma\n",
        "plt.subplot(1, 3, 1)\n",
        "plt.plot(gamma_values, gamma_wins, marker='o', color='blue')\n",
        "plt.title('Влияние gamma на количество побед')\n",
        "plt.xlabel('gamma')\n",
        "plt.ylabel('Количество побед')\n",
        "plt.grid(True)\n",
        "\n",
        "# График для lr_rate\n",
        "plt.subplot(1, 3, 2)\n",
        "plt.plot(lr_rate_values, lr_rate_wins, marker='o', color='green')\n",
        "plt.title('Влияние lr_rate на количество побед')\n",
        "plt.xlabel('lr_rate')\n",
        "plt.ylabel('Количество побед')\n",
        "plt.grid(True)\n",
        "\n",
        "# График для epsilon\n",
        "plt.subplot(1, 3, 3)\n",
        "plt.plot(epsilon_values, epsilon_wins, marker='o', color='red')\n",
        "plt.title('Влияние epsilon на количество побед')\n",
        "plt.xlabel('epsilon')\n",
        "plt.ylabel('Количество побед')\n",
        "plt.grid(True)\n",
        "\n",
        "plt.tight_layout()\n",
        "plt.show()"
      ],
      "metadata": {
        "colab": {
          "base_uri": "https://localhost:8080/",
          "height": 996
        },
        "id": "pj9wvLVHmKJI",
        "outputId": "8749b6ea-fe4d-467b-bc5b-54f5aa763098"
      },
      "execution_count": 20,
      "outputs": [
        {
          "output_type": "stream",
          "name": "stderr",
          "text": [
            "100%|██████████| 10000/10000 [00:05<00:00, 1879.72it/s]\n"
          ]
        },
        {
          "output_type": "stream",
          "name": "stdout",
          "text": [
            "gamma=0.1: 7914 побед\n"
          ]
        },
        {
          "output_type": "stream",
          "name": "stderr",
          "text": [
            "100%|██████████| 10000/10000 [00:05<00:00, 1962.32it/s]\n"
          ]
        },
        {
          "output_type": "stream",
          "name": "stdout",
          "text": [
            "gamma=0.5: 7914 побед\n"
          ]
        },
        {
          "output_type": "stream",
          "name": "stderr",
          "text": [
            "100%|██████████| 10000/10000 [00:05<00:00, 1806.28it/s]\n"
          ]
        },
        {
          "output_type": "stream",
          "name": "stdout",
          "text": [
            "gamma=0.8: 7914 побед\n"
          ]
        },
        {
          "output_type": "stream",
          "name": "stderr",
          "text": [
            "100%|██████████| 10000/10000 [00:05<00:00, 1844.37it/s]\n"
          ]
        },
        {
          "output_type": "stream",
          "name": "stdout",
          "text": [
            "gamma=0.9: 7936 побед\n"
          ]
        },
        {
          "output_type": "stream",
          "name": "stderr",
          "text": [
            "100%|██████████| 10000/10000 [00:05<00:00, 1795.25it/s]\n"
          ]
        },
        {
          "output_type": "stream",
          "name": "stdout",
          "text": [
            "gamma=0.99: 7944 побед\n"
          ]
        },
        {
          "output_type": "stream",
          "name": "stderr",
          "text": [
            "100%|██████████| 10000/10000 [00:05<00:00, 1851.04it/s]\n"
          ]
        },
        {
          "output_type": "stream",
          "name": "stdout",
          "text": [
            "lr_rate=0.1: 7930 побед\n"
          ]
        },
        {
          "output_type": "stream",
          "name": "stderr",
          "text": [
            "100%|██████████| 10000/10000 [00:05<00:00, 1954.61it/s]\n"
          ]
        },
        {
          "output_type": "stream",
          "name": "stdout",
          "text": [
            "lr_rate=0.3: 7965 побед\n"
          ]
        },
        {
          "output_type": "stream",
          "name": "stderr",
          "text": [
            "100%|██████████| 10000/10000 [00:05<00:00, 1819.97it/s]\n"
          ]
        },
        {
          "output_type": "stream",
          "name": "stdout",
          "text": [
            "lr_rate=0.5: 7978 побед\n"
          ]
        },
        {
          "output_type": "stream",
          "name": "stderr",
          "text": [
            "100%|██████████| 10000/10000 [00:05<00:00, 1851.52it/s]\n"
          ]
        },
        {
          "output_type": "stream",
          "name": "stdout",
          "text": [
            "lr_rate=0.7: 7886 побед\n"
          ]
        },
        {
          "output_type": "stream",
          "name": "stderr",
          "text": [
            "100%|██████████| 10000/10000 [00:05<00:00, 1949.97it/s]\n"
          ]
        },
        {
          "output_type": "stream",
          "name": "stdout",
          "text": [
            "lr_rate=0.9: 7914 побед\n"
          ]
        },
        {
          "output_type": "stream",
          "name": "stderr",
          "text": [
            "100%|██████████| 10000/10000 [00:05<00:00, 1910.22it/s]\n"
          ]
        },
        {
          "output_type": "stream",
          "name": "stdout",
          "text": [
            "epsilon=0.01: 9107 побед\n"
          ]
        },
        {
          "output_type": "stream",
          "name": "stderr",
          "text": [
            "100%|██████████| 10000/10000 [00:05<00:00, 1798.18it/s]\n"
          ]
        },
        {
          "output_type": "stream",
          "name": "stdout",
          "text": [
            "epsilon=0.05: 8634 побед\n"
          ]
        },
        {
          "output_type": "stream",
          "name": "stderr",
          "text": [
            "100%|██████████| 10000/10000 [00:04<00:00, 2040.45it/s]\n"
          ]
        },
        {
          "output_type": "stream",
          "name": "stdout",
          "text": [
            "epsilon=0.1: 7914 побед\n"
          ]
        },
        {
          "output_type": "stream",
          "name": "stderr",
          "text": [
            "100%|██████████| 10000/10000 [00:05<00:00, 1894.70it/s]\n"
          ]
        },
        {
          "output_type": "stream",
          "name": "stdout",
          "text": [
            "epsilon=0.2: 6536 побед\n"
          ]
        },
        {
          "output_type": "stream",
          "name": "stderr",
          "text": [
            "100%|██████████| 10000/10000 [00:04<00:00, 2126.61it/s]\n"
          ]
        },
        {
          "output_type": "stream",
          "name": "stdout",
          "text": [
            "epsilon=0.3: 5055 побед\n"
          ]
        },
        {
          "output_type": "display_data",
          "data": {
            "text/plain": [
              "<Figure size 1500x500 with 3 Axes>"
            ],
            "image/png": "[encoded data removed]"
          },
          "metadata": {}
        }
      ]
    },
    {
      "cell_type": "code",
      "source": [],
      "metadata": {
        "id": "T0p_5PFUmKDT"
      },
      "execution_count": null,
      "outputs": []
    },
    {
      "cell_type": "markdown",
      "source": [
        "#Softmax"
      ],
      "metadata": {
        "id": "tpZdDMvnpFn1"
      }
    },
    {
      "cell_type": "code",
      "source": [
        "def choose_action_softmax(state, tau=0.1):\n",
        "    q_values = Q[state, :]\n",
        "    exp_q = np.exp(q_values / tau)  # Экспонента Q-значений\n",
        "    probabilities = exp_q / np.sum(exp_q)  # Нормализация в вероятности\n",
        "    return np.random.choice(np.arange(env.action_space.n), p=probabilities)"
      ],
      "metadata": {
        "id": "cB23AUrkmJ93"
      },
      "execution_count": null,
      "outputs": []
    },
    {
      "cell_type": "markdown",
      "source": [
        "#UCB"
      ],
      "metadata": {
        "id": "k-se5WarpeZl"
      }
    },
    {
      "cell_type": "code",
      "source": [
        "def choose_action_ucb(state, c=1.0, t=1):\n",
        "    N_state_action = np.maximum(N_state_action[state, :], 1e-10)  # Избегаем деления на 0\n",
        "    ucb_values = Q[state, :] + c * np.sqrt(np.log(t + 1) / N_state_action)\n",
        "    return np.argmax(ucb_values)"
      ],
      "metadata": {
        "id": "T8G_lACzpe6N"
      },
      "execution_count": null,
      "outputs": []
    },
    {
      "cell_type": "markdown",
      "source": [
        "#Оптимистичные начальные оценки"
      ],
      "metadata": {
        "id": "5OhWLtYSpfPh"
      }
    },
    {
      "cell_type": "code",
      "source": [
        "import gym\n",
        "import numpy as np\n",
        "from tqdm import tqdm\n",
        "import matplotlib.pyplot as plt\n",
        "\n",
        "# Функция для генерации карты\n",
        "def generate_random_map(size, p, sd):\n",
        "    valid = False\n",
        "    np.random.seed(sd)\n",
        "    def is_valid(res):\n",
        "        frontier, discovered = [], set()\n",
        "        frontier.append((0,0))\n",
        "        while frontier:\n",
        "            r, c = frontier.pop()\n",
        "            if not (r,c) in discovered:\n",
        "                discovered.add((r,c))\n",
        "                directions = [(1, 0), (0, 1), (-1, 0), (0, -1)]\n",
        "                for x, y in directions:\n",
        "                    r_new = r + x\n",
        "                    c_new = c + y\n",
        "                    if r_new < 0 or r_new >= size or c_new < 0 or c_new >= size:\n",
        "                        continue\n",
        "                    if res[r_new][c_new] == 'G':\n",
        "                        return True\n",
        "                    if (res[r_new][c_new] not in '#H'):\n",
        "                        frontier.append((r_new, c_new))\n",
        "        return False\n",
        "    while not valid:\n",
        "        p = min(1, p)\n",
        "        res = np.random.choice(['F', 'H'], (size, size), p=[p, 1-p])\n",
        "        res[0][0] = 'S'\n",
        "        res[-1][-1] = 'G'\n",
        "        valid = is_valid(res)\n",
        "    return [\"\".join(x) for x in res]\n",
        "\n",
        "# Инициализация среды\n",
        "random_seed = 100\n",
        "np.random.seed(random_seed)\n",
        "random_map = generate_random_map(size=6, p=0.8, sd=random_seed)\n",
        "env = gym.make(\"FrozenLake-v0\", desc=random_map, is_slippery=False)\n",
        "\n",
        "# Гиперпараметры\n",
        "gamma = 0.8\n",
        "lr_rate = 0.9\n",
        "epsilon = 0.1\n",
        "total_games = 10000\n",
        "max_steps = 100\n",
        "\n",
        "# Глобальные переменные\n",
        "Q = None\n",
        "N_state_action = None\n",
        "N_state = None\n",
        "\n",
        "# Функции выбора действий\n",
        "def choose_action_epsilon(state):\n",
        "    action = 0\n",
        "    if np.random.uniform(0, 1) < epsilon:\n",
        "        action = np.random.randint(0, env.action_space.n)\n",
        "    else:\n",
        "        action = np.random.choice(np.array(np.argwhere(Q[state, :] == np.amax(Q[state, :])).flatten().tolist()))\n",
        "    return action\n",
        "\n",
        "def choose_action_softmax(state, tau=0.1):\n",
        "    q_values = Q[state, :]\n",
        "    exp_q = np.exp(q_values / tau)\n",
        "    probabilities = exp_q / np.sum(exp_q)\n",
        "    return np.random.choice(np.arange(env.action_space.n), p=probabilities)\n",
        "\n",
        "def choose_action_ucb(state, c=1.0, t=1):\n",
        "    N_state_action_safe = np.maximum(N_state_action[state, :], 1e-10)  # Избегаем деления на 0\n",
        "    ucb_values = Q[state, :] + c * np.sqrt(np.log(t + 1) / N_state_action_safe)\n",
        "    return np.argmax(ucb_values)\n",
        "\n",
        "# Функция обучения\n",
        "def learn(state, state2, reward, action, done):\n",
        "    if not done:\n",
        "        max_future_q = np.max(Q[state2, :])\n",
        "    else:\n",
        "        max_future_q = 0\n",
        "    current_q = Q[state, action]\n",
        "    target_q = reward + gamma * max_future_q\n",
        "    Q[state, action] = current_q + lr_rate * (target_q - current_q)\n",
        "\n",
        "# Функция для запуска эксперимента\n",
        "def run_experiment(strategy, optimistic_init=False):\n",
        "    global Q, N_state_action, N_state\n",
        "    np.random.seed(random_seed)\n",
        "    Q = np.ones((env.observation_space.n, env.action_space.n)) * 1.0 if optimistic_init else np.zeros((env.observation_space.n, env.action_space.n))\n",
        "    N_state_action = np.zeros((env.observation_space.n, env.action_space.n))  # Для UCB\n",
        "    N_state = np.zeros(env.observation_space.n)  # Для UCB\n",
        "    wins = 0\n",
        "    consecutive_wins = 0\n",
        "    first_five_wins_game = None\n",
        "    total_steps = 0  # Для UCB\n",
        "\n",
        "    for game in tqdm(range(total_games)):\n",
        "        state = env.reset()\n",
        "        t = 0\n",
        "        while t < max_steps:\n",
        "            t += 1\n",
        "            total_steps += 1\n",
        "            if strategy == 'epsilon':\n",
        "                action = choose_action_epsilon(state)\n",
        "            elif strategy == 'softmax':\n",
        "                action = choose_action_softmax(state, tau=0.1)\n",
        "            elif strategy == 'ucb':\n",
        "                action = choose_action_ucb(state, c=1.0, t=total_steps)\n",
        "            else:  # optimistic\n",
        "                action = choose_action_epsilon(state)  # Используем эпсилон-жадную для оптимистичных оценок\n",
        "            N_state[state] += 1\n",
        "            N_state_action[state, action] += 1\n",
        "            state2, reward, done, info = env.step(action)\n",
        "            if t == max_steps:\n",
        "                done = True\n",
        "            learn(state, state2, reward, action, done)\n",
        "            state = state2\n",
        "            if done:\n",
        "                if reward == 1:\n",
        "                    wins += 1\n",
        "                    consecutive_wins += 1\n",
        "                    if consecutive_wins >= 5 and first_five_wins_game is None:\n",
        "                        first_five_wins_game = game + 1\n",
        "                else:\n",
        "                    consecutive_wins = 0\n",
        "                break\n",
        "    return wins, first_five_wins_game\n",
        "\n",
        "# Эксперименты\n",
        "strategies = ['epsilon', 'softmax', 'ucb', 'optimistic']\n",
        "results = {}\n",
        "for strategy in strategies:\n",
        "    optimistic_init = (strategy == 'optimistic')\n",
        "    wins, first_five = run_experiment(strategy, optimistic_init)\n",
        "    results[strategy] = {'wins': wins, 'first_five': first_five}\n",
        "    print(f\"Стратегия {strategy}: {wins} побед, пять побед подряд в игре {first_five}\")\n",
        "\n",
        "# Построение графика\n",
        "plt.figure(figsize=(8, 6))\n",
        "strategies_names = ['Epsilon-греedy', 'Softmax', 'UCB', 'Optimistic']\n",
        "wins = [results[strat]['wins'] for strat in strategies]\n",
        "plt.bar(strategies_names, wins, color=['blue', 'green', 'red', 'purple'])\n",
        "plt.title('Сравнение стратегий выбора действий по количеству побед')\n",
        "plt.xlabel('Стратегия')\n",
        "plt.ylabel('Количество побед')\n",
        "plt.grid(True, axis='y')\n",
        "plt.show()"
      ],
      "metadata": {
        "colab": {
          "base_uri": "https://localhost:8080/",
          "height": 703
        },
        "id": "LA7WTD4dp7Yc",
        "outputId": "643ab37b-b72c-48c9-8776-96fb3d45d5f7"
      },
      "execution_count": 22,
      "outputs": [
        {
          "output_type": "stream",
          "name": "stderr",
          "text": [
            "100%|██████████| 10000/10000 [00:05<00:00, 1685.14it/s]\n"
          ]
        },
        {
          "output_type": "stream",
          "name": "stdout",
          "text": [
            "Стратегия epsilon: 7914 побед, пять побед подряд в игре 885\n"
          ]
        },
        {
          "output_type": "stream",
          "name": "stderr",
          "text": [
            "100%|██████████| 10000/10000 [00:06<00:00, 1504.67it/s]\n"
          ]
        },
        {
          "output_type": "stream",
          "name": "stdout",
          "text": [
            "Стратегия softmax: 4218 побед, пять побед подряд в игре 2338\n"
          ]
        },
        {
          "output_type": "stream",
          "name": "stderr",
          "text": [
            "100%|██████████| 10000/10000 [00:02<00:00, 3495.59it/s]\n"
          ]
        },
        {
          "output_type": "stream",
          "name": "stdout",
          "text": [
            "Стратегия ucb: 6553 побед, пять побед подряд в игре 1407\n"
          ]
        },
        {
          "output_type": "stream",
          "name": "stderr",
          "text": [
            "100%|██████████| 10000/10000 [00:06<00:00, 1651.77it/s]\n"
          ]
        },
        {
          "output_type": "stream",
          "name": "stdout",
          "text": [
            "Стратегия optimistic: 8512 побед, пять побед подряд в игре 35\n"
          ]
        },
        {
          "output_type": "display_data",
          "data": {
            "text/plain": [
              "<Figure size 800x600 with 1 Axes>"
            ],
            "image/png": "[encoded data removed]"
          },
          "metadata": {}
        }
      ]
    },
    {
      "cell_type": "code",
      "source": [],
      "metadata": {
        "id": "KYeHwC_fqT9k"
      },
      "execution_count": null,
      "outputs": []
    }
  ]
}
