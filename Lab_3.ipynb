{
  "cells": [
    {
      "cell_type": "code",
      "execution_count": null,
      "metadata": {
        "colab": {
          "base_uri": "https://localhost:8080/"
        },
        "collapsed": true,
        "id": "hOWFv0StvkXK",
        "outputId": "b46b6fb7-5994-466e-b02e-f48f1143b477"
      },
      "outputs": [
        {
          "output_type": "stream",
          "name": "stdout",
          "text": [
            "Collecting ultralytics\n",
            "  Downloading ultralytics-8.3.153-py3-none-any.whl.metadata (37 kB)\n",
            "Requirement already satisfied: numpy>=1.23.0 in /usr/local/lib/python3.11/dist-packages (from ultralytics) (2.0.2)\n",
            "Requirement already satisfied: matplotlib>=3.3.0 in /usr/local/lib/python3.11/dist-packages (from ultralytics) (3.10.0)\n",
            "Requirement already satisfied: opencv-python>=4.6.0 in /usr/local/lib/python3.11/dist-packages (from ultralytics) (4.11.0.86)\n",
            "Requirement already satisfied: pillow>=7.1.2 in /usr/local/lib/python3.11/dist-packages (from ultralytics) (11.2.1)\n",
            "Requirement already satisfied: pyyaml>=5.3.1 in /usr/local/lib/python3.11/dist-packages (from ultralytics) (6.0.2)\n",
            "Requirement already satisfied: requests>=2.23.0 in /usr/local/lib/python3.11/dist-packages (from ultralytics) (2.32.3)\n",
            "Requirement already satisfied: scipy>=1.4.1 in /usr/local/lib/python3.11/dist-packages (from ultralytics) (1.15.3)\n",
            "Requirement already satisfied: torch>=1.8.0 in /usr/local/lib/python3.11/dist-packages (from ultralytics) (2.6.0+cu124)\n",
            "Requirement already satisfied: torchvision>=0.9.0 in /usr/local/lib/python3.11/dist-packages (from ultralytics) (0.21.0+cu124)\n",
            "Requirement already satisfied: tqdm>=4.64.0 in /usr/local/lib/python3.11/dist-packages (from ultralytics) (4.67.1)\n",
            "Requirement already satisfied: psutil in /usr/local/lib/python3.11/dist-packages (from ultralytics) (5.9.5)\n",
            "Requirement already satisfied: py-cpuinfo in /usr/local/lib/python3.11/dist-packages (from ultralytics) (9.0.0)\n",
            "Requirement already satisfied: pandas>=1.1.4 in /usr/local/lib/python3.11/dist-packages (from ultralytics) (2.2.2)\n",
            "Collecting ultralytics-thop>=2.0.0 (from ultralytics)\n",
            "  Downloading ultralytics_thop-2.0.14-py3-none-any.whl.metadata (9.4 kB)\n",
            "Requirement already satisfied: contourpy>=1.0.1 in /usr/local/lib/python3.11/dist-packages (from matplotlib>=3.3.0->ultralytics) (1.3.2)\n",
            "Requirement already satisfied: cycler>=0.10 in /usr/local/lib/python3.11/dist-packages (from matplotlib>=3.3.0->ultralytics) (0.12.1)\n",
            "Requirement already satisfied: fonttools>=4.22.0 in /usr/local/lib/python3.11/dist-packages (from matplotlib>=3.3.0->ultralytics) (4.58.1)\n",
            "Requirement already satisfied: kiwisolver>=1.3.1 in /usr/local/lib/python3.11/dist-packages (from matplotlib>=3.3.0->ultralytics) (1.4.8)\n",
            "Requirement already satisfied: packaging>=20.0 in /usr/local/lib/python3.11/dist-packages (from matplotlib>=3.3.0->ultralytics) (24.2)\n",
            "Requirement already satisfied: pyparsing>=2.3.1 in /usr/local/lib/python3.11/dist-packages (from matplotlib>=3.3.0->ultralytics) (3.2.3)\n",
            "Requirement already satisfied: python-dateutil>=2.7 in /usr/local/lib/python3.11/dist-packages (from matplotlib>=3.3.0->ultralytics) (2.9.0.post0)\n",
            "Requirement already satisfied: pytz>=2020.1 in /usr/local/lib/python3.11/dist-packages (from pandas>=1.1.4->ultralytics) (2025.2)\n",
            "Requirement already satisfied: tzdata>=2022.7 in /usr/local/lib/python3.11/dist-packages (from pandas>=1.1.4->ultralytics) (2025.2)\n",
            "Requirement already satisfied: charset-normalizer<4,>=2 in /usr/local/lib/python3.11/dist-packages (from requests>=2.23.0->ultralytics) (3.4.2)\n",
            "Requirement already satisfied: idna<4,>=2.5 in /usr/local/lib/python3.11/dist-packages (from requests>=2.23.0->ultralytics) (3.10)\n",
            "Requirement already satisfied: urllib3<3,>=1.21.1 in /usr/local/lib/python3.11/dist-packages (from requests>=2.23.0->ultralytics) (2.4.0)\n",
            "Requirement already satisfied: certifi>=2017.4.17 in /usr/local/lib/python3.11/dist-packages (from requests>=2.23.0->ultralytics) (2025.4.26)\n",
            "Requirement already satisfied: filelock in /usr/local/lib/python3.11/dist-packages (from torch>=1.8.0->ultralytics) (3.18.0)\n",
            "Requirement already satisfied: typing-extensions>=4.10.0 in /usr/local/lib/python3.11/dist-packages (from torch>=1.8.0->ultralytics) (4.14.0)\n",
            "Requirement already satisfied: networkx in /usr/local/lib/python3.11/dist-packages (from torch>=1.8.0->ultralytics) (3.5)\n",
            "Requirement already satisfied: jinja2 in /usr/local/lib/python3.11/dist-packages (from torch>=1.8.0->ultralytics) (3.1.6)\n",
            "Requirement already satisfied: fsspec in /usr/local/lib/python3.11/dist-packages (from torch>=1.8.0->ultralytics) (2025.3.2)\n",
            "Collecting nvidia-cuda-nvrtc-cu12==12.4.127 (from torch>=1.8.0->ultralytics)\n",
            "  Downloading nvidia_cuda_nvrtc_cu12-12.4.127-py3-none-manylinux2014_x86_64.whl.metadata (1.5 kB)\n",
            "Collecting nvidia-cuda-runtime-cu12==12.4.127 (from torch>=1.8.0->ultralytics)\n",
            "  Downloading nvidia_cuda_runtime_cu12-12.4.127-py3-none-manylinux2014_x86_64.whl.metadata (1.5 kB)\n",
            "Collecting nvidia-cuda-cupti-cu12==12.4.127 (from torch>=1.8.0->ultralytics)\n",
            "  Downloading nvidia_cuda_cupti_cu12-12.4.127-py3-none-manylinux2014_x86_64.whl.metadata (1.6 kB)\n",
            "Collecting nvidia-cudnn-cu12==9.1.0.70 (from torch>=1.8.0->ultralytics)\n",
            "  Downloading nvidia_cudnn_cu12-9.1.0.70-py3-none-manylinux2014_x86_64.whl.metadata (1.6 kB)\n",
            "Collecting nvidia-cublas-cu12==12.4.5.8 (from torch>=1.8.0->ultralytics)\n",
            "  Downloading nvidia_cublas_cu12-12.4.5.8-py3-none-manylinux2014_x86_64.whl.metadata (1.5 kB)\n",
            "Collecting nvidia-cufft-cu12==11.2.1.3 (from torch>=1.8.0->ultralytics)\n",
            "  Downloading nvidia_cufft_cu12-11.2.1.3-py3-none-manylinux2014_x86_64.whl.metadata (1.5 kB)\n",
            "Collecting nvidia-curand-cu12==10.3.5.147 (from torch>=1.8.0->ultralytics)\n",
            "  Downloading nvidia_curand_cu12-10.3.5.147-py3-none-manylinux2014_x86_64.whl.metadata (1.5 kB)\n",
            "Collecting nvidia-cusolver-cu12==11.6.1.9 (from torch>=1.8.0->ultralytics)\n",
            "  Downloading nvidia_cusolver_cu12-11.6.1.9-py3-none-manylinux2014_x86_64.whl.metadata (1.6 kB)\n",
            "Collecting nvidia-cusparse-cu12==12.3.1.170 (from torch>=1.8.0->ultralytics)\n",
            "  Downloading nvidia_cusparse_cu12-12.3.1.170-py3-none-manylinux2014_x86_64.whl.metadata (1.6 kB)\n",
            "Requirement already satisfied: nvidia-cusparselt-cu12==0.6.2 in /usr/local/lib/python3.11/dist-packages (from torch>=1.8.0->ultralytics) (0.6.2)\n",
            "Requirement already satisfied: nvidia-nccl-cu12==2.21.5 in /usr/local/lib/python3.11/dist-packages (from torch>=1.8.0->ultralytics) (2.21.5)\n",
            "Requirement already satisfied: nvidia-nvtx-cu12==12.4.127 in /usr/local/lib/python3.11/dist-packages (from torch>=1.8.0->ultralytics) (12.4.127)\n",
            "Collecting nvidia-nvjitlink-cu12==12.4.127 (from torch>=1.8.0->ultralytics)\n",
            "  Downloading nvidia_nvjitlink_cu12-12.4.127-py3-none-manylinux2014_x86_64.whl.metadata (1.5 kB)\n",
            "Requirement already satisfied: triton==3.2.0 in /usr/local/lib/python3.11/dist-packages (from torch>=1.8.0->ultralytics) (3.2.0)\n",
            "Requirement already satisfied: sympy==1.13.1 in /usr/local/lib/python3.11/dist-packages (from torch>=1.8.0->ultralytics) (1.13.1)\n",
            "Requirement already satisfied: mpmath<1.4,>=1.1.0 in /usr/local/lib/python3.11/dist-packages (from sympy==1.13.1->torch>=1.8.0->ultralytics) (1.3.0)\n",
            "Requirement already satisfied: six>=1.5 in /usr/local/lib/python3.11/dist-packages (from python-dateutil>=2.7->matplotlib>=3.3.0->ultralytics) (1.17.0)\n",
            "Requirement already satisfied: MarkupSafe>=2.0 in /usr/local/lib/python3.11/dist-packages (from jinja2->torch>=1.8.0->ultralytics) (3.0.2)\n",
            "Downloading ultralytics-8.3.153-py3-none-any.whl (1.0 MB)\n",
            "\u001b[2K   \u001b[90m━━━━━━━━━━━━━━━━━━━━━━━━━━━━━━━━━━━━━━━━\u001b[0m \u001b[32m1.0/1.0 MB\u001b[0m \u001b[31m17.3 MB/s\u001b[0m eta \u001b[36m0:00:00\u001b[0m\n",
            "\u001b[?25hDownloading nvidia_cublas_cu12-12.4.5.8-py3-none-manylinux2014_x86_64.whl (363.4 MB)\n",
            "\u001b[2K   \u001b[90m━━━━━━━━━━━━━━━━━━━━━━━━━━━━━━━━━━━━━━━━\u001b[0m \u001b[32m363.4/363.4 MB\u001b[0m \u001b[31m3.1 MB/s\u001b[0m eta \u001b[36m0:00:00\u001b[0m\n",
            "\u001b[?25hDownloading nvidia_cuda_cupti_cu12-12.4.127-py3-none-manylinux2014_x86_64.whl (13.8 MB)\n",
            "\u001b[2K   \u001b[90m━━━━━━━━━━━━━━━━━━━━━━━━━━━━━━━━━━━━━━━━\u001b[0m \u001b[32m13.8/13.8 MB\u001b[0m \u001b[31m15.9 MB/s\u001b[0m eta \u001b[36m0:00:00\u001b[0m\n",
            "\u001b[?25hDownloading nvidia_cuda_nvrtc_cu12-12.4.127-py3-none-manylinux2014_x86_64.whl (24.6 MB)\n",
            "\u001b[2K   \u001b[90m━━━━━━━━━━━━━━━━━━━━━━━━━━━━━━━━━━━━━━━━\u001b[0m \u001b[32m24.6/24.6 MB\u001b[0m \u001b[31m13.7 MB/s\u001b[0m eta \u001b[36m0:00:00\u001b[0m\n",
            "\u001b[?25hDownloading nvidia_cuda_runtime_cu12-12.4.127-py3-none-manylinux2014_x86_64.whl (883 kB)\n",
            "\u001b[2K   \u001b[90m━━━━━━━━━━━━━━━━━━━━━━━━━━━━━━━━━━━━━━━━\u001b[0m \u001b[32m883.7/883.7 kB\u001b[0m \u001b[31m15.4 MB/s\u001b[0m eta \u001b[36m0:00:00\u001b[0m\n",
            "\u001b[?25hDownloading nvidia_cudnn_cu12-9.1.0.70-py3-none-manylinux2014_x86_64.whl (664.8 MB)\n",
            "\u001b[2K   \u001b[91m━━━━━━━━━━━━━━━━━━━━━━\u001b[0m\u001b[91m╸\u001b[0m\u001b[90m━━━━━━━━━━━━━━━━\u001b[0m \u001b[32m391.4/664.8 MB\u001b[0m \u001b[31m116.1 MB/s\u001b[0m eta \u001b[36m0:00:03\u001b[0m"
          ]
        }
      ],
      "source": [
        "!pip install ultralytics"
      ]
    },
    {
      "cell_type": "code",
      "execution_count": null,
      "metadata": {
        "id": "qzO6LAnzuTR-"
      },
      "outputs": [],
      "source": [
        "import numpy as np\n",
        "import pandas as pd\n",
        "import torch\n",
        "import os\n",
        "import yaml\n",
        "import cv2\n",
        "import json\n",
        "import torch"
      ]
    },
    {
      "cell_type": "code",
      "execution_count": null,
      "metadata": {
        "colab": {
          "base_uri": "https://localhost:8080/"
        },
        "id": "L1Voe0eisVeS",
        "outputId": "7abb5949-556e-472c-d792-aad7b40d2432"
      },
      "outputs": [
        {
          "output_type": "stream",
          "name": "stdout",
          "text": [
            "Drive already mounted at /content/drive; to attempt to forcibly remount, call drive.mount(\"/content/drive\", force_remount=True).\n"
          ]
        }
      ],
      "source": [
        "from google.colab import drive\n",
        "drive.mount('/content/drive')"
      ]
    },
    {
      "cell_type": "code",
      "source": [
        "import json\n",
        "import pandas as pd\n",
        "\n",
        "# Загрузка аннотаций\n",
        "annotations_path = '/content/drive/MyDrive/Детекция/wind-turbine-damage-challenges/Wind Turbine damage/train/_annotations.coco.json'\n",
        "with open(annotations_path) as f:\n",
        "    coco_data = json.load(f)\n",
        "\n",
        "\n",
        "categories = {cat['id']: cat['name'] for cat in coco_data['categories']}\n",
        "images = {img['id']: img['file_name'] for img in coco_data['images']}\n",
        "\n",
        "\n",
        "target_category_ids = {0, 1, 2, 3, 4, 5}\n",
        "unique_image_ids = set()\n",
        "\n",
        "\n",
        "data = []\n",
        "for ann in coco_data['annotations']:\n",
        "    category_id = ann['category_id']\n",
        "    if category_id in target_category_ids:\n",
        "        image_id = ann['image_id']\n",
        "        file_name = images.get(image_id, f\"unknown_{image_id}\")\n",
        "        unique_image_ids.add(file_name)\n",
        "\n",
        "        x, y, w, h = ann['bbox']\n",
        "        obj_record = [categories[category_id], x, y, w, h]\n",
        "\n",
        "        found = False\n",
        "        for entry in data:\n",
        "            if entry['image_id'] == file_name:\n",
        "                entry['objects'].append(obj_record)\n",
        "                found = True\n",
        "                break\n",
        "\n",
        "        if not found:\n",
        "            data.append({'image_id': file_name, 'objects': [obj_record]})\n",
        "\n",
        "\n",
        "df = pd.DataFrame(data)\n",
        "df['objects'] = df['objects'].apply(lambda x: str(x).replace(\"'\", '\"'))\n",
        "\n",
        "# Вывод количества уникальных фотографий\n",
        "num_unique_images = len(unique_image_ids)\n",
        "print(f\"Количество уникальных фотографий с интересующими категориями: {num_unique_images}\")"
      ],
      "metadata": {
        "colab": {
          "base_uri": "https://localhost:8080/"
        },
        "id": "5AcXJIGqsw26",
        "outputId": "fd523a83-04e6-4324-a327-35c0aeeaba95"
      },
      "execution_count": null,
      "outputs": [
        {
          "output_type": "stream",
          "name": "stdout",
          "text": [
            "Количество уникальных фотографий с интересующими категориями: 754\n"
          ]
        }
      ]
    },
    {
      "cell_type": "code",
      "source": [
        "annotations_path = '/content/drive/MyDrive/Детекция/wind-turbine-damage-challenges/Wind Turbine damage/train/_annotations.coco.json'\n",
        "with open(annotations_path) as f:\n",
        "    coco_data = json.load(f)\n",
        "\n",
        "unique_categories = {cat['id']: cat['name'] for cat in coco_data['categories']}\n",
        "num_categories = len(unique_categories)\n",
        "\n",
        "print(f\"Количество уникальных категорий: {num_categories}\")\n",
        "print(\"Список категорий:\")\n",
        "for category_id, category_name in unique_categories.items():\n",
        "    print(f\"ID: {category_id}, Название: {category_name}\")"
      ],
      "metadata": {
        "colab": {
          "base_uri": "https://localhost:8080/"
        },
        "id": "YJUap-k1lOx6",
        "outputId": "9a205721-314b-4abf-b0bd-749aa6713d6c"
      },
      "execution_count": null,
      "outputs": [
        {
          "output_type": "stream",
          "name": "stdout",
          "text": [
            "Количество уникальных категорий: 6\n",
            "Список категорий:\n",
            "ID: 0, Название: damage\n",
            "ID: 1, Название: corrosion\n",
            "ID: 2, Название: lightning\n",
            "ID: 3, Название: lightning receptor\n",
            "ID: 4, Название: missing teeth\n",
            "ID: 5, Название: patch\n"
          ]
        }
      ]
    },
    {
      "cell_type": "markdown",
      "source": [
        "# Колво фоток по категориям на train"
      ],
      "metadata": {
        "id": "1xddD_LRtM65"
      }
    },
    {
      "cell_type": "code",
      "source": [
        "annotations_path = '/content/drive/MyDrive/Детекция/wind-turbine-damage-challenges/Wind Turbine damage/train/_annotations.coco.json'\n",
        "with open(annotations_path) as f:\n",
        "    coco_data = json.load(f)\n",
        "\n",
        "categories = {cat['id']: cat['name'] for cat in coco_data['categories']}\n",
        "images = {img['id']: img['file_name'] for img in coco_data['images']}\n",
        "\n",
        "category_image_counts = {cat_id: set() for cat_id in categories.keys()}\n",
        "\n",
        "for ann in coco_data['annotations']:\n",
        "    category_id = ann['category_id']\n",
        "    image_id = ann['image_id']\n",
        "    file_name = images.get(image_id, f\"unknown_{image_id}\")\n",
        "\n",
        "    if category_id in category_image_counts:\n",
        "        category_image_counts[category_id].add(file_name)\n",
        "\n",
        "print(\"Количество уникальных фотографий по категориям:\")\n",
        "for cat_id, file_names in category_image_counts.items():\n",
        "    num_unique_images = len(file_names)\n",
        "    category_name = categories[cat_id]\n",
        "    print(f\"ID: {cat_id}, Название: {category_name}, Количество фотографий: {num_unique_images}\")"
      ],
      "metadata": {
        "colab": {
          "base_uri": "https://localhost:8080/"
        },
        "id": "9Q5q6As-s6ME",
        "outputId": "16b2a4bf-ced1-4f90-d6a6-0d234952b63f"
      },
      "execution_count": null,
      "outputs": [
        {
          "output_type": "stream",
          "name": "stdout",
          "text": [
            "Количество уникальных фотографий по категориям:\n",
            "ID: 0, Название: damage, Количество фотографий: 0\n",
            "ID: 1, Название: corrosion, Количество фотографий: 534\n",
            "ID: 2, Название: lightning, Количество фотографий: 31\n",
            "ID: 3, Название: lightning receptor, Количество фотографий: 82\n",
            "ID: 4, Название: missing teeth, Количество фотографий: 372\n",
            "ID: 5, Название: patch, Количество фотографий: 76\n"
          ]
        }
      ]
    },
    {
      "cell_type": "markdown",
      "source": [
        "# Колво фоток по категориям на валидации"
      ],
      "metadata": {
        "id": "hqEGdXGFtHYO"
      }
    },
    {
      "cell_type": "code",
      "source": [
        "annotations_path = '/content/drive/MyDrive/Детекция/wind-turbine-damage-challenges/Wind Turbine damage/valid/_annotations.coco.json'\n",
        "with open(annotations_path) as f:\n",
        "    coco_data = json.load(f)\n",
        "\n",
        "categories = {cat['id']: cat['name'] for cat in coco_data['categories']}\n",
        "images = {img['id']: img['file_name'] for img in coco_data['images']}\n",
        "\n",
        "category_image_counts = {cat_id: set() for cat_id in categories.keys()}\n",
        "\n",
        "for ann in coco_data['annotations']:\n",
        "    category_id = ann['category_id']\n",
        "    image_id = ann['image_id']\n",
        "    file_name = images.get(image_id, f\"unknown_{image_id}\")\n",
        "\n",
        "    if category_id in category_image_counts:\n",
        "        category_image_counts[category_id].add(file_name)\n",
        "\n",
        "print(\"Количество уникальных фотографий по категориям:\")\n",
        "for cat_id, file_names in category_image_counts.items():\n",
        "    num_unique_images = len(file_names)\n",
        "    category_name = categories[cat_id]\n",
        "    print(f\"ID: {cat_id}, Название: {category_name}, Количество фотографий: {num_unique_images}\")"
      ],
      "metadata": {
        "colab": {
          "base_uri": "https://localhost:8080/"
        },
        "id": "aa0b0kMys_9u",
        "outputId": "2ec95704-b2d1-43a7-d6d0-1a5144101f9e"
      },
      "execution_count": null,
      "outputs": [
        {
          "output_type": "stream",
          "name": "stdout",
          "text": [
            "Количество уникальных фотографий по категориям:\n",
            "ID: 0, Название: damage, Количество фотографий: 0\n",
            "ID: 1, Название: corrosion, Количество фотографий: 134\n",
            "ID: 2, Название: lightning, Количество фотографий: 9\n",
            "ID: 3, Название: lightning receptor, Количество фотографий: 10\n",
            "ID: 4, Название: missing teeth, Количество фотографий: 81\n",
            "ID: 5, Название: patch, Количество фотографий: 16\n"
          ]
        }
      ]
    },
    {
      "cell_type": "markdown",
      "source": [
        "# Аугментация"
      ],
      "metadata": {
        "id": "FbW4WWrQ8rXN"
      }
    },
    {
      "cell_type": "code",
      "source": [
        "import albumentations as A\n",
        "from tqdm import tqdm\n",
        "import ast"
      ],
      "metadata": {
        "id": "_QHg2BX3-LDV"
      },
      "execution_count": null,
      "outputs": []
    },
    {
      "cell_type": "code",
      "source": [
        "annotations_path = '/content/drive/MyDrive/Детекция/wind-turbine-damage-challenges/Wind Turbine damage/train/_annotations.coco.json'\n",
        "\n",
        "images_folder = '/content/drive/MyDrive/Детекция/wind-turbine-damage-challenges/Wind Turbine damage/train/'\n",
        "output_folder = '/content/drive/MyDrive/Детекция/wind-turbine-damage-challenges/Wind Turbine damage/output/'\n",
        "\n",
        "os.makedirs(output_folder, exist_ok=True)\n",
        "\n",
        "with open(annotations_path) as f:\n",
        "    coco_data = json.load(f)\n",
        "\n",
        "categories = {cat['id']: cat['name'] for cat in coco_data['categories']}\n",
        "images = {img['id']: img['file_name'] for img in coco_data['images']}\n",
        "\n",
        "data = []\n",
        "for ann in coco_data['annotations']:\n",
        "    image_id = ann['image_id']\n",
        "    file_name = images.get(image_id, f\"unknown_{image_id}\")\n",
        "    category = categories.get(ann['category_id'], \"unknown\")\n",
        "    x, y, w, h = ann['bbox']\n",
        "    obj_record = [category, x, y, w, h]\n",
        "\n",
        "    found = False\n",
        "    for entry in data:\n",
        "        if entry['image_id'] == file_name:\n",
        "            entry['objects'].append(obj_record)\n",
        "            found = True\n",
        "            break\n",
        "\n",
        "    if not found:\n",
        "        data.append({'image_id': file_name, 'objects': [obj_record]})\n",
        "\n",
        "df = pd.DataFrame(data)\n",
        "df['objects'] = df['objects'].apply(lambda x: str(x).replace(\"'\", '\"'))\n",
        "\n",
        "transform = A.Compose([\n",
        "    A.HorizontalFlip(p=0.5),\n",
        "    A.VerticalFlip(p=0.3),\n",
        "    A.RandomRotate90(p=0.3),\n",
        "    A.ShiftScaleRotate(shift_limit=0.05, scale_limit=0.1, rotate_limit=15, p=0.5),\n",
        "    A.RandomBrightnessContrast(brightness_limit=0.2, contrast_limit=0.2, p=0.3),\n",
        "    A.HueSaturationValue(hue_shift_limit=10, sat_shift_limit=20, val_shift_limit=10, p=0.2),\n",
        "], bbox_params=A.BboxParams(format='coco', label_fields=['category_names']))\n",
        "\n",
        "def augment_image(row, augmentations_per_image=4):\n",
        "    new_rows = []\n",
        "    image_path = os.path.join(images_folder, row['image_id'])\n",
        "    image = cv2.imread(image_path)\n",
        "    image = cv2.cvtColor(image, cv2.COLOR_BGR2RGB)\n",
        "\n",
        "    objects = ast.literal_eval(row['objects'])\n",
        "    bboxes = [obj[1:] for obj in objects]\n",
        "    category_names = [obj[0] for obj in objects]\n",
        "\n",
        "    for i in range(augmentations_per_image):\n",
        "        try:\n",
        "            transformed = transform(\n",
        "                image=image,\n",
        "                bboxes=bboxes,\n",
        "                category_names=category_names\n",
        "            )\n",
        "\n",
        "            new_filename = f\"aug{i}_{row['image_id']}\"\n",
        "            cv2.imwrite(os.path.join(output_folder, new_filename),\n",
        "                        cv2.cvtColor(transformed['image'], cv2.COLOR_RGB2BGR))\n",
        "\n",
        "            new_objects = [\n",
        "                [cat, *bbox]\n",
        "                for bbox, cat in zip(transformed['bboxes'], category_names)\n",
        "            ]\n",
        "\n",
        "            new_rows.append({\n",
        "                'image_id': new_filename,\n",
        "                'objects': str(new_objects).replace(\"'\", '\"')\n",
        "            })\n",
        "        except Exception as e:\n",
        "            print(f\"Ошибка при аугментации {row['image_id']}: {str(e)}\")\n",
        "\n",
        "    return new_rows\n",
        "\n",
        "augmented_data = []\n",
        "for _, row in tqdm(df.iterrows(), total=len(df)):\n",
        "    augmented_data.append(row.to_dict())\n",
        "    augmented_data.extend(augment_image(row))\n",
        "\n",
        "augmented_df = pd.DataFrame(augmented_data)\n",
        "\n",
        "augmented_df.to_csv(os.path.join(output_folder, 'augmented_annotations.csv'), index=False)\n",
        "\n",
        "print(f\"Оригинальный датасет: {len(df)} изображений\")\n",
        "print(f\"Аугментированный датасет: {len(augmented_df)} изображений\")\n",
        "print(\"\\nПример аугментированных данных:\")\n",
        "print(augmented_df.head())"
      ],
      "metadata": {
        "id": "_RPeMD6K8ob5",
        "colab": {
          "base_uri": "https://localhost:8080/"
        },
        "outputId": "e6e82827-c8e2-4736-ca3c-e0b4069fe9ee"
      },
      "execution_count": null,
      "outputs": [
        {
          "metadata": {
            "tags": null
          },
          "name": "stderr",
          "output_type": "stream",
          "text": [
            "/usr/local/lib/python3.11/dist-packages/albumentations/core/validation.py:114: UserWarning: ShiftScaleRotate is a special case of Affine transform. Please use Affine transform instead.\n",
            "  original_init(self, **validated_kwargs)\n",
            "  6%|▌         | 45/754 [01:56<28:04,  2.38s/it]"
          ]
        },
        {
          "metadata": {
            "tags": null
          },
          "name": "stdout",
          "output_type": "stream",
          "text": [
            "Ошибка при аугментации 20240120_162942_jpg.rf.0270798612537561a390df5dbdd72a98.jpg: Expected y_max for bbox [0.6520722 0.967246  0.6862934 1.0001336 0.       ] to be in the range [0.0, 1.0], got 1.0001336336135864.\n",
            "Ошибка при аугментации 20240120_162942_jpg.rf.0270798612537561a390df5dbdd72a98.jpg: Expected y_max for bbox [0.6520722 0.967246  0.6862934 1.0001336 0.       ] to be in the range [0.0, 1.0], got 1.0001336336135864.\n",
            "Ошибка при аугментации 20240120_162942_jpg.rf.0270798612537561a390df5dbdd72a98.jpg: Expected y_max for bbox [0.6520722 0.967246  0.6862934 1.0001336 0.       ] to be in the range [0.0, 1.0], got 1.0001336336135864.\n",
            "Ошибка при аугментации 20240120_162942_jpg.rf.0270798612537561a390df5dbdd72a98.jpg: Expected y_max for bbox [0.6520722 0.967246  0.6862934 1.0001336 0.       ] to be in the range [0.0, 1.0], got 1.0001336336135864.\n"
          ]
        },
        {
          "output_type": "stream",
          "name": "stderr",
          "text": [
            " 20%|██        | 152/754 [06:59<16:11,  1.61s/it]"
          ]
        },
        {
          "output_type": "stream",
          "name": "stdout",
          "text": [
            "Ошибка при аугментации 20240120_162912_jpg.rf.29699b9c2c3bc8888f76923fb517f311.jpg: Expected y_max for bbox [0.7616979 0.9906417 0.8364572 1.0000601 0.       ] to be in the range [0.0, 1.0], got 1.0000600814819336.\n",
            "Ошибка при аугментации 20240120_162912_jpg.rf.29699b9c2c3bc8888f76923fb517f311.jpg: Expected y_max for bbox [0.7616979 0.9906417 0.8364572 1.0000601 0.       ] to be in the range [0.0, 1.0], got 1.0000600814819336.\n",
            "Ошибка при аугментации 20240120_162912_jpg.rf.29699b9c2c3bc8888f76923fb517f311.jpg: Expected y_max for bbox [0.7616979 0.9906417 0.8364572 1.0000601 0.       ] to be in the range [0.0, 1.0], got 1.0000600814819336.\n",
            "Ошибка при аугментации 20240120_162912_jpg.rf.29699b9c2c3bc8888f76923fb517f311.jpg: Expected y_max for bbox [0.7616979 0.9906417 0.8364572 1.0000601 0.       ] to be in the range [0.0, 1.0], got 1.0000600814819336.\n"
          ]
        },
        {
          "output_type": "stream",
          "name": "stderr",
          "text": [
            " 22%|██▏       | 168/754 [07:34<20:02,  2.05s/it]"
          ]
        },
        {
          "output_type": "stream",
          "name": "stdout",
          "text": [
            "Ошибка при аугментации 20240120_162939-0-_jpg.rf.382ecdac130c3a2368af060f85ca15ae.jpg: Expected y_max for bbox [0.7683824  0.99498665 0.77415776 1.0000368  0.        ] to be in the range [0.0, 1.0], got 1.0000368356704712.\n",
            "Ошибка при аугментации 20240120_162939-0-_jpg.rf.382ecdac130c3a2368af060f85ca15ae.jpg: Expected y_max for bbox [0.7683824  0.99498665 0.77415776 1.0000368  0.        ] to be in the range [0.0, 1.0], got 1.0000368356704712.\n",
            "Ошибка при аугментации 20240120_162939-0-_jpg.rf.382ecdac130c3a2368af060f85ca15ae.jpg: Expected y_max for bbox [0.7683824  0.99498665 0.77415776 1.0000368  0.        ] to be in the range [0.0, 1.0], got 1.0000368356704712.\n",
            "Ошибка при аугментации 20240120_162939-0-_jpg.rf.382ecdac130c3a2368af060f85ca15ae.jpg: Expected y_max for bbox [0.7683824  0.99498665 0.77415776 1.0000368  0.        ] to be in the range [0.0, 1.0], got 1.0000368356704712.\n"
          ]
        },
        {
          "output_type": "stream",
          "name": "stderr",
          "text": [
            " 23%|██▎       | 171/754 [07:40<17:44,  1.83s/it]"
          ]
        },
        {
          "output_type": "stream",
          "name": "stdout",
          "text": [
            "Ошибка при аугментации 20240120_162939_jpg.rf.80bc40a7f9b0903a9eddd70f7a56b4d1.jpg: Expected y_max for bbox [0.59959894 0.9461898  0.6224331  1.0001204  0.        ] to be in the range [0.0, 1.0], got 1.0001204013824463.\n",
            "Ошибка при аугментации 20240120_162939_jpg.rf.80bc40a7f9b0903a9eddd70f7a56b4d1.jpg: Expected y_max for bbox [0.59959894 0.9461898  0.6224331  1.0001204  0.        ] to be in the range [0.0, 1.0], got 1.0001204013824463.\n",
            "Ошибка при аугментации 20240120_162939_jpg.rf.80bc40a7f9b0903a9eddd70f7a56b4d1.jpg: Expected y_max for bbox [0.59959894 0.9461898  0.6224331  1.0001204  0.        ] to be in the range [0.0, 1.0], got 1.0001204013824463.\n",
            "Ошибка при аугментации 20240120_162939_jpg.rf.80bc40a7f9b0903a9eddd70f7a56b4d1.jpg: Expected y_max for bbox [0.59959894 0.9461898  0.6224331  1.0001204  0.        ] to be in the range [0.0, 1.0], got 1.0001204013824463.\n"
          ]
        },
        {
          "output_type": "stream",
          "name": "stderr",
          "text": [
            " 23%|██▎       | 177/754 [07:54<19:25,  2.02s/it]"
          ]
        },
        {
          "output_type": "stream",
          "name": "stdout",
          "text": [
            "Ошибка при аугментации 20240120_162940-0-_jpg.rf.1f9c7aa41205c9031f87aadf27b0885e.jpg: Expected y_max for bbox [0.7175802  0.98663104 0.7315775  1.0000702  0.        ] to be in the range [0.0, 1.0], got 1.0000702142715454.\n",
            "Ошибка при аугментации 20240120_162940-0-_jpg.rf.1f9c7aa41205c9031f87aadf27b0885e.jpg: Expected y_max for bbox [0.7175802  0.98663104 0.7315775  1.0000702  0.        ] to be in the range [0.0, 1.0], got 1.0000702142715454.\n",
            "Ошибка при аугментации 20240120_162940-0-_jpg.rf.1f9c7aa41205c9031f87aadf27b0885e.jpg: Expected y_max for bbox [0.7175802  0.98663104 0.7315775  1.0000702  0.        ] to be in the range [0.0, 1.0], got 1.0000702142715454.\n",
            "Ошибка при аугментации 20240120_162940-0-_jpg.rf.1f9c7aa41205c9031f87aadf27b0885e.jpg: Expected y_max for bbox [0.7175802  0.98663104 0.7315775  1.0000702  0.        ] to be in the range [0.0, 1.0], got 1.0000702142715454.\n"
          ]
        },
        {
          "output_type": "stream",
          "name": "stderr",
          "text": [
            " 24%|██▍       | 182/754 [08:02<15:27,  1.62s/it]"
          ]
        },
        {
          "output_type": "stream",
          "name": "stdout",
          "text": [
            "Ошибка при аугментации 20240120_164348_mp4-4674_jpg.rf.0a43d0cf6019a9ce725c63ea992450f2.jpg: Expected x_max for bbox [0.98796296 0.14375    1.000463   0.15454689 0.        ] to be in the range [0.0, 1.0], got 1.0004630088806152.\n",
            "Ошибка при аугментации 20240120_164348_mp4-4674_jpg.rf.0a43d0cf6019a9ce725c63ea992450f2.jpg: Expected x_max for bbox [0.98796296 0.14375    1.000463   0.15454689 0.        ] to be in the range [0.0, 1.0], got 1.0004630088806152.\n",
            "Ошибка при аугментации 20240120_164348_mp4-4674_jpg.rf.0a43d0cf6019a9ce725c63ea992450f2.jpg: Expected x_max for bbox [0.98796296 0.14375    1.000463   0.15454689 0.        ] to be in the range [0.0, 1.0], got 1.0004630088806152.\n",
            "Ошибка при аугментации 20240120_164348_mp4-4674_jpg.rf.0a43d0cf6019a9ce725c63ea992450f2.jpg: Expected x_max for bbox [0.98796296 0.14375    1.000463   0.15454689 0.        ] to be in the range [0.0, 1.0], got 1.0004630088806152.\n"
          ]
        },
        {
          "output_type": "stream",
          "name": "stderr",
          "text": [
            " 28%|██▊       | 208/754 [09:04<20:13,  2.22s/it]"
          ]
        },
        {
          "output_type": "stream",
          "name": "stdout",
          "text": [
            "Ошибка при аугментации 20240120_163050-0-_jpg.rf.054a5a3a8ca5d5cea97e317a4c6d7883.jpg: Expected y_max for bbox [0.31183156 0.9883021  0.31778073 1.0000268  1.        ] to be in the range [0.0, 1.0], got 1.000026822090149.\n",
            "Ошибка при аугментации 20240120_163050-0-_jpg.rf.054a5a3a8ca5d5cea97e317a4c6d7883.jpg: Expected y_max for bbox [0.31183156 0.9883021  0.31778073 1.0000268  1.        ] to be in the range [0.0, 1.0], got 1.000026822090149.\n",
            "Ошибка при аугментации 20240120_163050-0-_jpg.rf.054a5a3a8ca5d5cea97e317a4c6d7883.jpg: Expected y_max for bbox [0.31183156 0.9883021  0.31778073 1.0000268  1.        ] to be in the range [0.0, 1.0], got 1.000026822090149.\n",
            "Ошибка при аугментации 20240120_163050-0-_jpg.rf.054a5a3a8ca5d5cea97e317a4c6d7883.jpg: Expected y_max for bbox [0.31183156 0.9883021  0.31778073 1.0000268  1.        ] to be in the range [0.0, 1.0], got 1.000026822090149.\n"
          ]
        },
        {
          "output_type": "stream",
          "name": "stderr",
          "text": [
            " 33%|███▎      | 249/754 [11:15<19:06,  2.27s/it]"
          ]
        },
        {
          "output_type": "stream",
          "name": "stdout",
          "text": [
            "Ошибка при аугментации 20240120_162957_jpg.rf.1ccc709b6cfbe2010ec2d100c8743899.jpg: Expected y_max for bbox [0.70721924 0.98028076 0.7165374  1.0000434  0.        ] to be in the range [0.0, 1.0], got 1.0000433921813965.\n",
            "Ошибка при аугментации 20240120_162957_jpg.rf.1ccc709b6cfbe2010ec2d100c8743899.jpg: Expected y_max for bbox [0.70721924 0.98028076 0.7165374  1.0000434  0.        ] to be in the range [0.0, 1.0], got 1.0000433921813965.\n",
            "Ошибка при аугментации 20240120_162957_jpg.rf.1ccc709b6cfbe2010ec2d100c8743899.jpg: Expected y_max for bbox [0.70721924 0.98028076 0.7165374  1.0000434  0.        ] to be in the range [0.0, 1.0], got 1.0000433921813965.\n",
            "Ошибка при аугментации 20240120_162957_jpg.rf.1ccc709b6cfbe2010ec2d100c8743899.jpg: Expected y_max for bbox [0.70721924 0.98028076 0.7165374  1.0000434  0.        ] to be in the range [0.0, 1.0], got 1.0000433921813965.\n"
          ]
        },
        {
          "output_type": "stream",
          "name": "stderr",
          "text": [
            " 43%|████▎     | 322/754 [14:53<20:50,  2.89s/it]"
          ]
        },
        {
          "output_type": "stream",
          "name": "stdout",
          "text": [
            "Ошибка при аугментации DJI_0344_JPG.rf.4e13c7da872916a753058391be1932d6.jpg: Expected y_max for bbox [0.23276515 0.98013467 0.2410625  1.0000404  0.        ] to be in the range [0.0, 1.0], got 1.0000404119491577.\n",
            "Ошибка при аугментации DJI_0344_JPG.rf.4e13c7da872916a753058391be1932d6.jpg: Expected y_max for bbox [0.23276515 0.98013467 0.2410625  1.0000404  0.        ] to be in the range [0.0, 1.0], got 1.0000404119491577.\n",
            "Ошибка при аугментации DJI_0344_JPG.rf.4e13c7da872916a753058391be1932d6.jpg: Expected y_max for bbox [0.23276515 0.98013467 0.2410625  1.0000404  0.        ] to be in the range [0.0, 1.0], got 1.0000404119491577.\n",
            "Ошибка при аугментации DJI_0344_JPG.rf.4e13c7da872916a753058391be1932d6.jpg: Expected y_max for bbox [0.23276515 0.98013467 0.2410625  1.0000404  0.        ] to be in the range [0.0, 1.0], got 1.0000404119491577.\n"
          ]
        },
        {
          "output_type": "stream",
          "name": "stderr",
          "text": [
            " 43%|████▎     | 326/754 [15:05<19:09,  2.69s/it]"
          ]
        },
        {
          "output_type": "stream",
          "name": "stdout",
          "text": [
            "Ошибка при аугментации DJI_0058_JPG.rf.f7d41aef52fc10dfea05ecd06a96eef1.jpg: Expected y_max for bbox [0.3560606 0.9973064 0.3573807 1.0000875 0.       ] to be in the range [0.0, 1.0], got 1.0000874996185303.\n",
            "Ошибка при аугментации DJI_0058_JPG.rf.f7d41aef52fc10dfea05ecd06a96eef1.jpg: Expected y_max for bbox [0.3560606 0.9973064 0.3573807 1.0000875 0.       ] to be in the range [0.0, 1.0], got 1.0000874996185303.\n",
            "Ошибка при аугментации DJI_0058_JPG.rf.f7d41aef52fc10dfea05ecd06a96eef1.jpg: Expected y_max for bbox [0.3560606 0.9973064 0.3573807 1.0000875 0.       ] to be in the range [0.0, 1.0], got 1.0000874996185303.\n",
            "Ошибка при аугментации DJI_0058_JPG.rf.f7d41aef52fc10dfea05ecd06a96eef1.jpg: Expected y_max for bbox [0.3560606 0.9973064 0.3573807 1.0000875 0.       ] to be in the range [0.0, 1.0], got 1.0000874996185303.\n"
          ]
        },
        {
          "output_type": "stream",
          "name": "stderr",
          "text": [
            " 52%|█████▏    | 394/754 [19:11<16:18,  2.72s/it]"
          ]
        },
        {
          "output_type": "stream",
          "name": "stdout",
          "text": [
            "Ошибка при аугментации 20240120_161031_jpg.rf.764ac7b346b8670c6230297d09678f68.jpg: Expected x_max for bbox [0.9883021  0.02239305 1.0001103  0.03130682 0.        ] to be in the range [0.0, 1.0], got 1.0001102685928345.\n",
            "Ошибка при аугментации 20240120_161031_jpg.rf.764ac7b346b8670c6230297d09678f68.jpg: Expected x_max for bbox [0.9883021  0.02239305 1.0001103  0.03130682 0.        ] to be in the range [0.0, 1.0], got 1.0001102685928345.\n",
            "Ошибка при аугментации 20240120_161031_jpg.rf.764ac7b346b8670c6230297d09678f68.jpg: Expected x_max for bbox [0.9883021  0.02239305 1.0001103  0.03130682 0.        ] to be in the range [0.0, 1.0], got 1.0001102685928345.\n",
            "Ошибка при аугментации 20240120_161031_jpg.rf.764ac7b346b8670c6230297d09678f68.jpg: Expected x_max for bbox [0.9883021  0.02239305 1.0001103  0.03130682 0.        ] to be in the range [0.0, 1.0], got 1.0001102685928345.\n"
          ]
        },
        {
          "output_type": "stream",
          "name": "stderr",
          "text": [
            " 54%|█████▎    | 405/754 [19:41<13:51,  2.38s/it]"
          ]
        },
        {
          "output_type": "stream",
          "name": "stdout",
          "text": [
            "Ошибка при аугментации 20240120_161107_jpg.rf.dbe8ffc59618aa05cc6733f6b2787e50.jpg: Expected x_max for bbox [0.9351604  0.33790106 1.0001069  0.41998664 0.        ] to be in the range [0.0, 1.0], got 1.000106930732727.\n",
            "Ошибка при аугментации 20240120_161107_jpg.rf.dbe8ffc59618aa05cc6733f6b2787e50.jpg: Expected x_max for bbox [0.9351604  0.33790106 1.0001069  0.41998664 0.        ] to be in the range [0.0, 1.0], got 1.000106930732727.\n",
            "Ошибка при аугментации 20240120_161107_jpg.rf.dbe8ffc59618aa05cc6733f6b2787e50.jpg: Expected x_max for bbox [0.9351604  0.33790106 1.0001069  0.41998664 0.        ] to be in the range [0.0, 1.0], got 1.000106930732727.\n",
            "Ошибка при аугментации 20240120_161107_jpg.rf.dbe8ffc59618aa05cc6733f6b2787e50.jpg: Expected x_max for bbox [0.9351604  0.33790106 1.0001069  0.41998664 0.        ] to be in the range [0.0, 1.0], got 1.000106930732727.\n"
          ]
        },
        {
          "output_type": "stream",
          "name": "stderr",
          "text": [
            " 54%|█████▍    | 408/754 [19:47<11:22,  1.97s/it]"
          ]
        },
        {
          "output_type": "stream",
          "name": "stdout",
          "text": [
            "Ошибка при аугментации 20240120_161104_jpg.rf.6504902ae1984d8e8fe2a5283b8abc4e.jpg: Expected x_max for bbox [0.88001335 0.45721924 1.00001    0.49557486 0.        ] to be in the range [0.0, 1.0], got 1.0000100135803223.\n",
            "Ошибка при аугментации 20240120_161104_jpg.rf.6504902ae1984d8e8fe2a5283b8abc4e.jpg: Expected x_max for bbox [0.88001335 0.45721924 1.00001    0.49557486 0.        ] to be in the range [0.0, 1.0], got 1.0000100135803223.\n",
            "Ошибка при аугментации 20240120_161104_jpg.rf.6504902ae1984d8e8fe2a5283b8abc4e.jpg: Expected x_max for bbox [0.88001335 0.45721924 1.00001    0.49557486 0.        ] to be in the range [0.0, 1.0], got 1.0000100135803223.\n",
            "Ошибка при аугментации 20240120_161104_jpg.rf.6504902ae1984d8e8fe2a5283b8abc4e.jpg: Expected x_max for bbox [0.88001335 0.45721924 1.00001    0.49557486 0.        ] to be in the range [0.0, 1.0], got 1.0000100135803223.\n"
          ]
        },
        {
          "output_type": "stream",
          "name": "stderr",
          "text": [
            " 55%|█████▍    | 412/754 [19:55<10:24,  1.83s/it]"
          ]
        },
        {
          "output_type": "stream",
          "name": "stdout",
          "text": [
            "Ошибка при аугментации 20240120_161105_jpg.rf.0fe2db4c1e33c806afbda4baf1e306e5.jpg: Expected x_max for bbox [0.8846925  0.46290106 1.0001571  0.4983623  0.        ] to be in the range [0.0, 1.0], got 1.000157117843628.\n",
            "Ошибка при аугментации 20240120_161105_jpg.rf.0fe2db4c1e33c806afbda4baf1e306e5.jpg: Expected x_max for bbox [0.8846925  0.46290106 1.0001571  0.4983623  0.        ] to be in the range [0.0, 1.0], got 1.000157117843628.\n",
            "Ошибка при аугментации 20240120_161105_jpg.rf.0fe2db4c1e33c806afbda4baf1e306e5.jpg: Expected x_max for bbox [0.8846925  0.46290106 1.0001571  0.4983623  0.        ] to be in the range [0.0, 1.0], got 1.000157117843628.\n",
            "Ошибка при аугментации 20240120_161105_jpg.rf.0fe2db4c1e33c806afbda4baf1e306e5.jpg: Expected x_max for bbox [0.8846925  0.46290106 1.0001571  0.4983623  0.        ] to be in the range [0.0, 1.0], got 1.000157117843628.\n"
          ]
        },
        {
          "output_type": "stream",
          "name": "stderr",
          "text": [
            " 56%|█████▌    | 422/754 [20:20<11:39,  2.11s/it]"
          ]
        },
        {
          "output_type": "stream",
          "name": "stdout",
          "text": [
            "Ошибка при аугментации DJI_0610-1-_JPG.rf.ef480d14f4ac0a2bf0ada09e7892a1dc.jpg: Expected y_max for bbox [0.34166667 0.9885522  0.34792805 1.0000168  0.        ] to be in the range [0.0, 1.0], got 1.0000168085098267.\n",
            "Ошибка при аугментации DJI_0610-1-_JPG.rf.ef480d14f4ac0a2bf0ada09e7892a1dc.jpg: Expected y_max for bbox [0.34166667 0.9885522  0.34792805 1.0000168  0.        ] to be in the range [0.0, 1.0], got 1.0000168085098267.\n",
            "Ошибка при аугментации DJI_0610-1-_JPG.rf.ef480d14f4ac0a2bf0ada09e7892a1dc.jpg: Expected y_max for bbox [0.34166667 0.9885522  0.34792805 1.0000168  0.        ] to be in the range [0.0, 1.0], got 1.0000168085098267.\n",
            "Ошибка при аугментации DJI_0610-1-_JPG.rf.ef480d14f4ac0a2bf0ada09e7892a1dc.jpg: Expected y_max for bbox [0.34166667 0.9885522  0.34792805 1.0000168  0.        ] to be in the range [0.0, 1.0], got 1.0000168085098267.\n"
          ]
        },
        {
          "output_type": "stream",
          "name": "stderr",
          "text": [
            " 57%|█████▋    | 427/754 [20:33<12:34,  2.31s/it]"
          ]
        },
        {
          "output_type": "stream",
          "name": "stdout",
          "text": [
            "Ошибка при аугментации 20240120_161103_jpg.rf.0ed457d18165968656bb813ca66fc108.jpg: Expected x_max for bbox [0.8713235  0.47225937 1.0001605  0.51797795 0.        ] to be in the range [0.0, 1.0], got 1.0001604557037354.\n",
            "Ошибка при аугментации 20240120_161103_jpg.rf.0ed457d18165968656bb813ca66fc108.jpg: Expected x_max for bbox [0.8713235  0.47225937 1.0001605  0.51797795 0.        ] to be in the range [0.0, 1.0], got 1.0001604557037354.\n",
            "Ошибка при аугментации 20240120_161103_jpg.rf.0ed457d18165968656bb813ca66fc108.jpg: Expected x_max for bbox [0.8713235  0.47225937 1.0001605  0.51797795 0.        ] to be in the range [0.0, 1.0], got 1.0001604557037354.\n",
            "Ошибка при аугментации 20240120_161103_jpg.rf.0ed457d18165968656bb813ca66fc108.jpg: Expected x_max for bbox [0.8713235  0.47225937 1.0001605  0.51797795 0.        ] to be in the range [0.0, 1.0], got 1.0001604557037354.\n"
          ]
        },
        {
          "output_type": "stream",
          "name": "stderr",
          "text": [
            " 57%|█████▋    | 430/754 [20:40<11:34,  2.14s/it]"
          ]
        },
        {
          "output_type": "stream",
          "name": "stdout",
          "text": [
            "Ошибка при аугментации DJI_0374_JPG.rf.fc6668d7f908baa5ad4ed9fba0b547b8.jpg: Expected y_max for bbox [0.60700756 0.9976431  0.6079716  1.0000504  0.        ] to be in the range [0.0, 1.0], got 1.00005042552948.\n",
            "Ошибка при аугментации DJI_0374_JPG.rf.fc6668d7f908baa5ad4ed9fba0b547b8.jpg: Expected y_max for bbox [0.60700756 0.9976431  0.6079716  1.0000504  0.        ] to be in the range [0.0, 1.0], got 1.00005042552948.\n",
            "Ошибка при аугментации DJI_0374_JPG.rf.fc6668d7f908baa5ad4ed9fba0b547b8.jpg: Expected y_max for bbox [0.60700756 0.9976431  0.6079716  1.0000504  0.        ] to be in the range [0.0, 1.0], got 1.00005042552948.\n",
            "Ошибка при аугментации DJI_0374_JPG.rf.fc6668d7f908baa5ad4ed9fba0b547b8.jpg: Expected y_max for bbox [0.60700756 0.9976431  0.6079716  1.0000504  0.        ] to be in the range [0.0, 1.0], got 1.00005042552948.\n"
          ]
        },
        {
          "output_type": "stream",
          "name": "stderr",
          "text": [
            " 57%|█████▋    | 433/754 [20:46<09:42,  1.82s/it]"
          ]
        },
        {
          "output_type": "stream",
          "name": "stdout",
          "text": [
            "Ошибка при аугментации 20240120_164348_mp4-1380_jpg.rf.f0d629c1cac8a82ffce350cf9888b96b.jpg: Expected x_max for bbox [0.9907407  0.1171875  1.0000556  0.13289063 0.        ] to be in the range [0.0, 1.0], got 1.0000555515289307.\n",
            "Ошибка при аугментации 20240120_164348_mp4-1380_jpg.rf.f0d629c1cac8a82ffce350cf9888b96b.jpg: Expected x_max for bbox [0.9907407  0.1171875  1.0000556  0.13289063 0.        ] to be in the range [0.0, 1.0], got 1.0000555515289307.\n",
            "Ошибка при аугментации 20240120_164348_mp4-1380_jpg.rf.f0d629c1cac8a82ffce350cf9888b96b.jpg: Expected x_max for bbox [0.9907407  0.1171875  1.0000556  0.13289063 0.        ] to be in the range [0.0, 1.0], got 1.0000555515289307.\n",
            "Ошибка при аугментации 20240120_164348_mp4-1380_jpg.rf.f0d629c1cac8a82ffce350cf9888b96b.jpg: Expected x_max for bbox [0.9907407  0.1171875  1.0000556  0.13289063 0.        ] to be in the range [0.0, 1.0], got 1.0000555515289307.\n"
          ]
        },
        {
          "output_type": "stream",
          "name": "stderr",
          "text": [
            " 58%|█████▊    | 436/754 [20:51<09:09,  1.73s/it]"
          ]
        },
        {
          "output_type": "stream",
          "name": "stdout",
          "text": [
            "Ошибка при аугментации 20240120_161129-0-_jpg.rf.fcd134469c5cd792be8fa4f650688507.jpg: Expected x_max for bbox [0.99498665 0.75167114 1.0000534  0.75712234 0.        ] to be in the range [0.0, 1.0], got 1.0000534057617188.\n",
            "Ошибка при аугментации 20240120_161129-0-_jpg.rf.fcd134469c5cd792be8fa4f650688507.jpg: Expected x_max for bbox [0.99498665 0.75167114 1.0000534  0.75712234 0.        ] to be in the range [0.0, 1.0], got 1.0000534057617188.\n",
            "Ошибка при аугментации 20240120_161129-0-_jpg.rf.fcd134469c5cd792be8fa4f650688507.jpg: Expected x_max for bbox [0.99498665 0.75167114 1.0000534  0.75712234 0.        ] to be in the range [0.0, 1.0], got 1.0000534057617188.\n",
            "Ошибка при аугментации 20240120_161129-0-_jpg.rf.fcd134469c5cd792be8fa4f650688507.jpg: Expected x_max for bbox [0.99498665 0.75167114 1.0000534  0.75712234 0.        ] to be in the range [0.0, 1.0], got 1.0000534057617188.\n"
          ]
        },
        {
          "output_type": "stream",
          "name": "stderr",
          "text": [
            "\r 58%|█████▊    | 437/754 [20:52<07:43,  1.46s/it]"
          ]
        },
        {
          "output_type": "stream",
          "name": "stdout",
          "text": [
            "Ошибка при аугментации DJI_0360_JPG.rf.8af0337eef73a81c4a32fd1cdec9a9e6.jpg: Expected x_max for bbox [0.99753785 0.53198653 1.000072   0.53835016 0.        ] to be in the range [0.0, 1.0], got 1.0000720024108887.\n",
            "Ошибка при аугментации DJI_0360_JPG.rf.8af0337eef73a81c4a32fd1cdec9a9e6.jpg: Expected x_max for bbox [0.99753785 0.53198653 1.000072   0.53835016 0.        ] to be in the range [0.0, 1.0], got 1.0000720024108887.\n",
            "Ошибка при аугментации DJI_0360_JPG.rf.8af0337eef73a81c4a32fd1cdec9a9e6.jpg: Expected x_max for bbox [0.99753785 0.53198653 1.000072   0.53835016 0.        ] to be in the range [0.0, 1.0], got 1.0000720024108887.\n",
            "Ошибка при аугментации DJI_0360_JPG.rf.8af0337eef73a81c4a32fd1cdec9a9e6.jpg: Expected x_max for bbox [0.99753785 0.53198653 1.000072   0.53835016 0.        ] to be in the range [0.0, 1.0], got 1.0000720024108887.\n"
          ]
        },
        {
          "output_type": "stream",
          "name": "stderr",
          "text": [
            " 61%|██████▏   | 463/754 [22:18<13:33,  2.79s/it]"
          ]
        },
        {
          "output_type": "stream",
          "name": "stdout",
          "text": [
            "Ошибка при аугментации DJI_0373_JPG.rf.2d3debc29e6dd3a046e77e3ffa4cd598.jpg: Expected y_max for bbox [0.56666666 0.9969697  0.56870264 1.0000135  0.        ] to be in the range [0.0, 1.0], got 1.0000134706497192.\n",
            "Ошибка при аугментации DJI_0373_JPG.rf.2d3debc29e6dd3a046e77e3ffa4cd598.jpg: Expected y_max for bbox [0.56666666 0.9969697  0.56870264 1.0000135  0.        ] to be in the range [0.0, 1.0], got 1.0000134706497192.\n",
            "Ошибка при аугментации DJI_0373_JPG.rf.2d3debc29e6dd3a046e77e3ffa4cd598.jpg: Expected y_max for bbox [0.56666666 0.9969697  0.56870264 1.0000135  0.        ] to be in the range [0.0, 1.0], got 1.0000134706497192.\n",
            "Ошибка при аугментации DJI_0373_JPG.rf.2d3debc29e6dd3a046e77e3ffa4cd598.jpg: Expected y_max for bbox [0.56666666 0.9969697  0.56870264 1.0000135  0.        ] to be in the range [0.0, 1.0], got 1.0000134706497192.\n"
          ]
        },
        {
          "output_type": "stream",
          "name": "stderr",
          "text": [
            " 62%|██████▏   | 471/754 [22:43<12:07,  2.57s/it]"
          ]
        },
        {
          "output_type": "stream",
          "name": "stdout",
          "text": [
            "Ошибка при аугментации DJI_0372_JPG.rf.184e026768d257557110c18fb6781e45.jpg: Expected y_max for bbox [0.53977275 0.996633   0.54092425 1.0000775  0.        ] to be in the range [0.0, 1.0], got 1.000077486038208.\n",
            "Ошибка при аугментации DJI_0372_JPG.rf.184e026768d257557110c18fb6781e45.jpg: Expected y_max for bbox [0.53977275 0.996633   0.54092425 1.0000775  0.        ] to be in the range [0.0, 1.0], got 1.000077486038208.\n",
            "Ошибка при аугментации DJI_0372_JPG.rf.184e026768d257557110c18fb6781e45.jpg: Expected y_max for bbox [0.53977275 0.996633   0.54092425 1.0000775  0.        ] to be in the range [0.0, 1.0], got 1.000077486038208.\n",
            "Ошибка при аугментации DJI_0372_JPG.rf.184e026768d257557110c18fb6781e45.jpg: Expected y_max for bbox [0.53977275 0.996633   0.54092425 1.0000775  0.        ] to be in the range [0.0, 1.0], got 1.000077486038208.\n"
          ]
        },
        {
          "output_type": "stream",
          "name": "stderr",
          "text": [
            " 65%|██████▌   | 493/754 [23:57<12:04,  2.78s/it]"
          ]
        },
        {
          "output_type": "stream",
          "name": "stdout",
          "text": [
            "Ошибка при аугментации DJI_0389_JPG.rf.dbd07857be83aa42389c66543614d7f0.jpg: Expected x_max for bbox [0.9810606  0.25892255 1.0000947  0.2676835  1.        ] to be in the range [0.0, 1.0], got 1.0000946521759033.\n",
            "Ошибка при аугментации DJI_0389_JPG.rf.dbd07857be83aa42389c66543614d7f0.jpg: Expected x_max for bbox [0.9810606  0.25892255 1.0000947  0.2676835  1.        ] to be in the range [0.0, 1.0], got 1.0000946521759033.\n",
            "Ошибка при аугментации DJI_0389_JPG.rf.dbd07857be83aa42389c66543614d7f0.jpg: Expected x_max for bbox [0.9810606  0.25892255 1.0000947  0.2676835  1.        ] to be in the range [0.0, 1.0], got 1.0000946521759033.\n",
            "Ошибка при аугментации DJI_0389_JPG.rf.dbd07857be83aa42389c66543614d7f0.jpg: Expected x_max for bbox [0.9810606  0.25892255 1.0000947  0.2676835  1.        ] to be in the range [0.0, 1.0], got 1.0000946521759033.\n"
          ]
        },
        {
          "output_type": "stream",
          "name": "stderr",
          "text": [
            " 70%|██████▉   | 526/754 [25:38<11:36,  3.05s/it]"
          ]
        },
        {
          "output_type": "stream",
          "name": "stdout",
          "text": [
            "Ошибка при аугментации DJI_0220_JPG.rf.1f887e8da41b0a749cc03a2a6efad969.jpg: Expected y_max for bbox [0.47556818 0.9747475  0.47761175 1.000074   1.        ] to be in the range [0.0, 1.0], got 1.000074028968811.\n",
            "Ошибка при аугментации DJI_0220_JPG.rf.1f887e8da41b0a749cc03a2a6efad969.jpg: Expected y_max for bbox [0.47556818 0.9747475  0.47761175 1.000074   1.        ] to be in the range [0.0, 1.0], got 1.000074028968811.\n",
            "Ошибка при аугментации DJI_0220_JPG.rf.1f887e8da41b0a749cc03a2a6efad969.jpg: Expected y_max for bbox [0.47556818 0.9747475  0.47761175 1.000074   1.        ] to be in the range [0.0, 1.0], got 1.000074028968811.\n",
            "Ошибка при аугментации DJI_0220_JPG.rf.1f887e8da41b0a749cc03a2a6efad969.jpg: Expected y_max for bbox [0.47556818 0.9747475  0.47761175 1.000074   1.        ] to be in the range [0.0, 1.0], got 1.000074028968811.\n"
          ]
        },
        {
          "output_type": "stream",
          "name": "stderr",
          "text": [
            " 88%|████████▊ | 662/754 [34:38<04:57,  3.23s/it]"
          ]
        },
        {
          "output_type": "stream",
          "name": "stdout",
          "text": [
            "Ошибка при аугментации DJI_0272_JPG.rf.b74dabac1cad97ca06f4366db2527f5c.jpg: Expected y_max for bbox [0.30113637 0.92121214 0.32404923 1.0000943  0.        ] to be in the range [0.0, 1.0], got 1.0000942945480347.\n",
            "Ошибка при аугментации DJI_0272_JPG.rf.b74dabac1cad97ca06f4366db2527f5c.jpg: Expected y_max for bbox [0.30113637 0.92121214 0.32404923 1.0000943  0.        ] to be in the range [0.0, 1.0], got 1.0000942945480347.\n",
            "Ошибка при аугментации DJI_0272_JPG.rf.b74dabac1cad97ca06f4366db2527f5c.jpg: Expected y_max for bbox [0.30113637 0.92121214 0.32404923 1.0000943  0.        ] to be in the range [0.0, 1.0], got 1.0000942945480347.\n",
            "Ошибка при аугментации DJI_0272_JPG.rf.b74dabac1cad97ca06f4366db2527f5c.jpg: Expected y_max for bbox [0.30113637 0.92121214 0.32404923 1.0000943  0.        ] to be in the range [0.0, 1.0], got 1.0000942945480347.\n"
          ]
        },
        {
          "output_type": "stream",
          "name": "stderr",
          "text": [
            " 89%|████████▉ | 673/754 [35:20<04:16,  3.16s/it]"
          ]
        },
        {
          "output_type": "stream",
          "name": "stdout",
          "text": [
            "Ошибка при аугментации DJI_0276_JPG.rf.9ab500a2b99c5e877759996d7f0a7777.jpg: Expected y_max for bbox [0.24185605 0.9754209  0.2730341  1.0000504  0.        ] to be in the range [0.0, 1.0], got 1.00005042552948.\n",
            "Ошибка при аугментации DJI_0276_JPG.rf.9ab500a2b99c5e877759996d7f0a7777.jpg: Expected y_max for bbox [0.24185605 0.9754209  0.2730341  1.0000504  0.        ] to be in the range [0.0, 1.0], got 1.00005042552948.\n",
            "Ошибка при аугментации DJI_0276_JPG.rf.9ab500a2b99c5e877759996d7f0a7777.jpg: Expected y_max for bbox [0.24185605 0.9754209  0.2730341  1.0000504  0.        ] to be in the range [0.0, 1.0], got 1.00005042552948.\n",
            "Ошибка при аугментации DJI_0276_JPG.rf.9ab500a2b99c5e877759996d7f0a7777.jpg: Expected y_max for bbox [0.24185605 0.9754209  0.2730341  1.0000504  0.        ] to be in the range [0.0, 1.0], got 1.00005042552948.\n"
          ]
        },
        {
          "output_type": "stream",
          "name": "stderr",
          "text": [
            " 97%|█████████▋| 728/754 [38:45<01:02,  2.41s/it]"
          ]
        },
        {
          "output_type": "stream",
          "name": "stdout",
          "text": [
            "Ошибка при аугментации DJI_0181_JPG.rf.4ce43776caf50c48ad56c02fef6b3005.jpg: Expected y_max for bbox [0.5299242  0.97946125 0.5345549  1.0000639  0.        ] to be in the range [0.0, 1.0], got 1.0000638961791992.\n",
            "Ошибка при аугментации DJI_0181_JPG.rf.4ce43776caf50c48ad56c02fef6b3005.jpg: Expected y_max for bbox [0.5299242  0.97946125 0.5345549  1.0000639  0.        ] to be in the range [0.0, 1.0], got 1.0000638961791992.\n",
            "Ошибка при аугментации DJI_0181_JPG.rf.4ce43776caf50c48ad56c02fef6b3005.jpg: Expected y_max for bbox [0.5299242  0.97946125 0.5345549  1.0000639  0.        ] to be in the range [0.0, 1.0], got 1.0000638961791992.\n",
            "Ошибка при аугментации DJI_0181_JPG.rf.4ce43776caf50c48ad56c02fef6b3005.jpg: Expected y_max for bbox [0.5299242  0.97946125 0.5345549  1.0000639  0.        ] to be in the range [0.0, 1.0], got 1.0000638961791992.\n"
          ]
        },
        {
          "output_type": "stream",
          "name": "stderr",
          "text": [
            "100%|██████████| 754/754 [39:41<00:00,  3.16s/it]"
          ]
        }
      ]
    },
    {
      "cell_type": "code",
      "source": [
        "#  данные после аугментации\n",
        "category_counts = {\n",
        "    \"corrosion\": 0,\n",
        "    \"lightning\": 0,\n",
        "    \"lightning receptor\": 0,\n",
        "    \"missing teeth\": 0,\n",
        "    \"patch\": 0\n",
        "}\n",
        "\n",
        "for obj_list in augmented_df['objects']:\n",
        "    objects = ast.literal_eval(obj_list)\n",
        "\n",
        "    for obj in objects:\n",
        "        category_name = obj[0]\n",
        "        if category_name in category_counts:\n",
        "            category_counts[category_name] += 1\n",
        "\n",
        "# Выводим результаты\n",
        "for category_id, category_name in zip(range(1, len(category_counts) + 1), category_counts.keys()):\n",
        "    print(f\"ID: {category_id}, Название: {category_name}, Количество: {category_counts[category_name]}\")"
      ],
      "metadata": {
        "colab": {
          "base_uri": "https://localhost:8080/"
        },
        "id": "1gRsANAivruP",
        "outputId": "4b6dee17-78f0-4f3e-ff27-3f6b31913dc3"
      },
      "execution_count": null,
      "outputs": [
        {
          "output_type": "stream",
          "name": "stdout",
          "text": [
            "ID: 1, Название: corrosion, Количество: 33468\n",
            "ID: 2, Название: lightning, Количество: 155\n",
            "ID: 3, Название: lightning receptor, Количество: 463\n",
            "ID: 4, Название: missing teeth, Количество: 7957\n",
            "ID: 5, Название: patch, Количество: 1166\n"
          ]
        }
      ]
    },
    {
      "cell_type": "code",
      "source": [
        "!cp -r \"/content/drive/MyDrive/CNN/Wind Turbine damage/yolo_wind_turbine_backup\" \"/content/\""
      ],
      "metadata": {
        "id": "tuWB1CNdLDD2",
        "colab": {
          "base_uri": "https://localhost:8080/"
        },
        "outputId": "ab054b0c-641b-4907-da93-5c3a0a2f55f5"
      },
      "execution_count": null,
      "outputs": [
        {
          "output_type": "stream",
          "name": "stdout",
          "text": [
            "cp: cannot stat '/content/drive/MyDrive/CNN/Wind Turbine damage/yolo_wind_turbine_backup': No such file or directory\n"
          ]
        }
      ]
    },
    {
      "cell_type": "code",
      "execution_count": null,
      "metadata": {
        "id": "h93DRtWeuAMF"
      },
      "outputs": [],
      "source": [
        "augmented_df = pd.read_csv('/content/drive/MyDrive/Wind Turbine damage/ augmented_df_full.csv')\n",
        "df_valid = pd.read_csv('/content/drive/MyDrive/Wind Turbine damage/ df_valid.csv')"
      ]
    },
    {
      "cell_type": "code",
      "execution_count": null,
      "metadata": {
        "id": "gZoMOzU1-5BT"
      },
      "outputs": [],
      "source": [
        "base_path = '/content/drive/MyDrive/Детекция/wind-turbine-damage-challenges/Wind Turbine damage/yolo_wind'"
      ]
    },
    {
      "cell_type": "code",
      "execution_count": null,
      "metadata": {
        "colab": {
          "base_uri": "https://localhost:8080/"
        },
        "id": "Dh4-bnrka8IA",
        "outputId": "12f15510-9661-40e6-bdb3-61ae178855e9"
      },
      "outputs": [
        {
          "output_type": "stream",
          "name": "stdout",
          "text": [
            "Подготовка данных завершена!\n"
          ]
        }
      ],
      "source": [
        "# Создаем YAML файл конфигурации\n",
        "yaml_content = {\n",
        "    'path': base_path,\n",
        "    'train': 'images/train',\n",
        "    'val': 'images/val',\n",
        "    'names': ['corrosion', 'lightning', 'lightning receptor', 'missing teeth', 'patch']\n",
        "}\n",
        "\n",
        "with open(os.path.join(base_path, 'wind_turbine.yaml'), 'w') as f:\n",
        "    yaml.dump(yaml_content, f)\n",
        "\n",
        "print(\"Подготовка данных завершена!\")"
      ]
    },
    {
      "cell_type": "code",
      "execution_count": null,
      "metadata": {
        "colab": {
          "base_uri": "https://localhost:8080/"
        },
        "id": "omXBgLM2SuSt",
        "outputId": "0c3af7ca-a7be-4902-e21d-389153c78f90"
      },
      "outputs": [
        {
          "output_type": "stream",
          "name": "stdout",
          "text": [
            "Используемое устройство: cpu\n"
          ]
        }
      ],
      "source": [
        "device = 'cuda' if torch.cuda.is_available() else 'cpu'\n",
        "print(f\"Используемое устройство: {device}\")"
      ]
    },
    {
      "cell_type": "code",
      "source": [
        "! pip install ultralytics"
      ],
      "metadata": {
        "colab": {
          "base_uri": "https://localhost:8080/"
        },
        "id": "HSGmzyy-M_Ha",
        "outputId": "c07ca60a-9eee-4f7a-e5d4-cfa7d6b3006d"
      },
      "execution_count": null,
      "outputs": [
        {
          "output_type": "stream",
          "name": "stdout",
          "text": [
            "Requirement already satisfied: ultralytics in /usr/local/lib/python3.11/dist-packages (8.3.152)\n",
            "Requirement already satisfied: numpy>=1.23.0 in /usr/local/lib/python3.11/dist-packages (from ultralytics) (2.0.2)\n",
            "Requirement already satisfied: matplotlib>=3.3.0 in /usr/local/lib/python3.11/dist-packages (from ultralytics) (3.10.0)\n",
            "Requirement already satisfied: opencv-python>=4.6.0 in /usr/local/lib/python3.11/dist-packages (from ultralytics) (4.11.0.86)\n",
            "Requirement already satisfied: pillow>=7.1.2 in /usr/local/lib/python3.11/dist-packages (from ultralytics) (11.2.1)\n",
            "Requirement already satisfied: pyyaml>=5.3.1 in /usr/local/lib/python3.11/dist-packages (from ultralytics) (6.0.2)\n",
            "Requirement already satisfied: requests>=2.23.0 in /usr/local/lib/python3.11/dist-packages (from ultralytics) (2.32.3)\n",
            "Requirement already satisfied: scipy>=1.4.1 in /usr/local/lib/python3.11/dist-packages (from ultralytics) (1.15.3)\n",
            "Requirement already satisfied: torch>=1.8.0 in /usr/local/lib/python3.11/dist-packages (from ultralytics) (2.6.0+cu124)\n",
            "Requirement already satisfied: torchvision>=0.9.0 in /usr/local/lib/python3.11/dist-packages (from ultralytics) (0.21.0+cu124)\n",
            "Requirement already satisfied: tqdm>=4.64.0 in /usr/local/lib/python3.11/dist-packages (from ultralytics) (4.67.1)\n",
            "Requirement already satisfied: psutil in /usr/local/lib/python3.11/dist-packages (from ultralytics) (5.9.5)\n",
            "Requirement already satisfied: py-cpuinfo in /usr/local/lib/python3.11/dist-packages (from ultralytics) (9.0.0)\n",
            "Requirement already satisfied: pandas>=1.1.4 in /usr/local/lib/python3.11/dist-packages (from ultralytics) (2.2.2)\n",
            "Requirement already satisfied: ultralytics-thop>=2.0.0 in /usr/local/lib/python3.11/dist-packages (from ultralytics) (2.0.14)\n",
            "Requirement already satisfied: contourpy>=1.0.1 in /usr/local/lib/python3.11/dist-packages (from matplotlib>=3.3.0->ultralytics) (1.3.2)\n",
            "Requirement already satisfied: cycler>=0.10 in /usr/local/lib/python3.11/dist-packages (from matplotlib>=3.3.0->ultralytics) (0.12.1)\n",
            "Requirement already satisfied: fonttools>=4.22.0 in /usr/local/lib/python3.11/dist-packages (from matplotlib>=3.3.0->ultralytics) (4.58.1)\n",
            "Requirement already satisfied: kiwisolver>=1.3.1 in /usr/local/lib/python3.11/dist-packages (from matplotlib>=3.3.0->ultralytics) (1.4.8)\n",
            "Requirement already satisfied: packaging>=20.0 in /usr/local/lib/python3.11/dist-packages (from matplotlib>=3.3.0->ultralytics) (24.2)\n",
            "Requirement already satisfied: pyparsing>=2.3.1 in /usr/local/lib/python3.11/dist-packages (from matplotlib>=3.3.0->ultralytics) (3.2.3)\n",
            "Requirement already satisfied: python-dateutil>=2.7 in /usr/local/lib/python3.11/dist-packages (from matplotlib>=3.3.0->ultralytics) (2.9.0.post0)\n",
            "Requirement already satisfied: pytz>=2020.1 in /usr/local/lib/python3.11/dist-packages (from pandas>=1.1.4->ultralytics) (2025.2)\n",
            "Requirement already satisfied: tzdata>=2022.7 in /usr/local/lib/python3.11/dist-packages (from pandas>=1.1.4->ultralytics) (2025.2)\n",
            "Requirement already satisfied: charset-normalizer<4,>=2 in /usr/local/lib/python3.11/dist-packages (from requests>=2.23.0->ultralytics) (3.4.2)\n",
            "Requirement already satisfied: idna<4,>=2.5 in /usr/local/lib/python3.11/dist-packages (from requests>=2.23.0->ultralytics) (3.10)\n",
            "Requirement already satisfied: urllib3<3,>=1.21.1 in /usr/local/lib/python3.11/dist-packages (from requests>=2.23.0->ultralytics) (2.4.0)\n",
            "Requirement already satisfied: certifi>=2017.4.17 in /usr/local/lib/python3.11/dist-packages (from requests>=2.23.0->ultralytics) (2025.4.26)\n",
            "Requirement already satisfied: filelock in /usr/local/lib/python3.11/dist-packages (from torch>=1.8.0->ultralytics) (3.18.0)\n",
            "Requirement already satisfied: typing-extensions>=4.10.0 in /usr/local/lib/python3.11/dist-packages (from torch>=1.8.0->ultralytics) (4.14.0)\n",
            "Requirement already satisfied: networkx in /usr/local/lib/python3.11/dist-packages (from torch>=1.8.0->ultralytics) (3.5)\n",
            "Requirement already satisfied: jinja2 in /usr/local/lib/python3.11/dist-packages (from torch>=1.8.0->ultralytics) (3.1.6)\n",
            "Requirement already satisfied: fsspec in /usr/local/lib/python3.11/dist-packages (from torch>=1.8.0->ultralytics) (2025.3.2)\n",
            "Requirement already satisfied: nvidia-cuda-nvrtc-cu12==12.4.127 in /usr/local/lib/python3.11/dist-packages (from torch>=1.8.0->ultralytics) (12.4.127)\n",
            "Requirement already satisfied: nvidia-cuda-runtime-cu12==12.4.127 in /usr/local/lib/python3.11/dist-packages (from torch>=1.8.0->ultralytics) (12.4.127)\n",
            "Requirement already satisfied: nvidia-cuda-cupti-cu12==12.4.127 in /usr/local/lib/python3.11/dist-packages (from torch>=1.8.0->ultralytics) (12.4.127)\n",
            "Requirement already satisfied: nvidia-cudnn-cu12==9.1.0.70 in /usr/local/lib/python3.11/dist-packages (from torch>=1.8.0->ultralytics) (9.1.0.70)\n",
            "Requirement already satisfied: nvidia-cublas-cu12==12.4.5.8 in /usr/local/lib/python3.11/dist-packages (from torch>=1.8.0->ultralytics) (12.4.5.8)\n",
            "Requirement already satisfied: nvidia-cufft-cu12==11.2.1.3 in /usr/local/lib/python3.11/dist-packages (from torch>=1.8.0->ultralytics) (11.2.1.3)\n",
            "Requirement already satisfied: nvidia-curand-cu12==10.3.5.147 in /usr/local/lib/python3.11/dist-packages (from torch>=1.8.0->ultralytics) (10.3.5.147)\n",
            "Requirement already satisfied: nvidia-cusolver-cu12==11.6.1.9 in /usr/local/lib/python3.11/dist-packages (from torch>=1.8.0->ultralytics) (11.6.1.9)\n",
            "Requirement already satisfied: nvidia-cusparse-cu12==12.3.1.170 in /usr/local/lib/python3.11/dist-packages (from torch>=1.8.0->ultralytics) (12.3.1.170)\n",
            "Requirement already satisfied: nvidia-cusparselt-cu12==0.6.2 in /usr/local/lib/python3.11/dist-packages (from torch>=1.8.0->ultralytics) (0.6.2)\n",
            "Requirement already satisfied: nvidia-nccl-cu12==2.21.5 in /usr/local/lib/python3.11/dist-packages (from torch>=1.8.0->ultralytics) (2.21.5)\n",
            "Requirement already satisfied: nvidia-nvtx-cu12==12.4.127 in /usr/local/lib/python3.11/dist-packages (from torch>=1.8.0->ultralytics) (12.4.127)\n",
            "Requirement already satisfied: nvidia-nvjitlink-cu12==12.4.127 in /usr/local/lib/python3.11/dist-packages (from torch>=1.8.0->ultralytics) (12.4.127)\n",
            "Requirement already satisfied: triton==3.2.0 in /usr/local/lib/python3.11/dist-packages (from torch>=1.8.0->ultralytics) (3.2.0)\n",
            "Requirement already satisfied: sympy==1.13.1 in /usr/local/lib/python3.11/dist-packages (from torch>=1.8.0->ultralytics) (1.13.1)\n",
            "Requirement already satisfied: mpmath<1.4,>=1.1.0 in /usr/local/lib/python3.11/dist-packages (from sympy==1.13.1->torch>=1.8.0->ultralytics) (1.3.0)\n",
            "Requirement already satisfied: six>=1.5 in /usr/local/lib/python3.11/dist-packages (from python-dateutil>=2.7->matplotlib>=3.3.0->ultralytics) (1.17.0)\n",
            "Requirement already satisfied: MarkupSafe>=2.0 in /usr/local/lib/python3.11/dist-packages (from jinja2->torch>=1.8.0->ultralytics) (3.0.2)\n"
          ]
        }
      ]
    },
    {
      "cell_type": "code",
      "source": [
        "import os\n",
        "from pathlib import Path\n",
        "import shutil\n",
        "import json\n",
        "\n",
        "# Пути с учётом пробелов\n",
        "coco_train_path = '/content/drive/MyDrive/Детекция/wind-turbine-damage-challenges/Wind Turbine damage/train/_annotations.coco.json'\n",
        "coco_val_path = '/content/drive/MyDrive/Детекция/wind-turbine-damage-challenges/Wind Turbine damage/valid/_annotations.coco.json'\n",
        "yolo_base_path = '/content/drive/MyDrive/Детекция/wind-turbine-damage-challenges/Wind Turbine damage/yolo_wind'\n",
        "images_train_path = os.path.join(yolo_base_path, 'images/train')\n",
        "images_val_path = os.path.join(yolo_base_path, 'images/val')\n",
        "labels_train_path = os.path.join(yolo_base_path, 'labels/train')\n",
        "labels_val_path = os.path.join(yolo_base_path, 'labels/val')\n",
        "source_train_path = '/content/drive/MyDrive/Детекция/wind-turbine-damage-challenges/Wind Turbine damage/train'\n",
        "source_val_path = '/content/drive/MyDrive/Детекция/wind-turbine-damage-challenges/Wind Turbine damage/valid'\n",
        "\n",
        "# Создание папок\n",
        "Path(images_train_path).mkdir(parents=True, exist_ok=True)\n",
        "Path(images_val_path).mkdir(parents=True, exist_ok=True)\n",
        "Path(labels_train_path).mkdir(parents=True, exist_ok=True)\n",
        "Path(labels_val_path).mkdir(parents=True, exist_ok=True)\n",
        "\n",
        "# Классы\n",
        "class_names = ['corrosion', 'lightning', 'lightning receptor', 'missing teeth', 'patch']\n",
        "class_map = {name: idx for idx, name in enumerate(class_names)}\n",
        "\n",
        "def coco_to_yolo(coco_json_path, images_dir, labels_dir, source_dir):\n",
        "    if not os.path.exists(coco_json_path):\n",
        "        print(f\"Файл {coco_json_path} не найден!\")\n",
        "        return\n",
        "    with open(coco_json_path, 'r') as f:\n",
        "        coco_data = json.load(f)\n",
        "\n",
        "    image_id_to_filename = {img['id']: img['file_name'] for img in coco_data['images']}\n",
        "    annotations = coco_data['annotations']\n",
        "    categories = {cat['id']: cat['name'] for cat in coco_data['categories']}\n",
        "    images_copied = 0\n",
        "    labels_created = 0\n",
        "\n",
        "    for ann in annotations:\n",
        "        image_id = ann['image_id']\n",
        "        filename = image_id_to_filename.get(image_id)\n",
        "        if not filename:\n",
        "            print(f\"Изображение с ID {image_id} не найдено в аннотациях!\")\n",
        "            continue\n",
        "        img_width = next(img['width'] for img in coco_data['images'] if img['id'] == image_id)\n",
        "        img_height = next(img['height'] for img in coco_data['images'] if img['id'] == image_id)\n",
        "\n",
        "        bbox = ann['bbox']\n",
        "        x_min, y_min, width, height = bbox\n",
        "        x_center = (x_min + width / 2) / img_width\n",
        "        y_center = (y_min + height / 2) / img_height\n",
        "        normalized_width = width / img_width\n",
        "        normalized_height = height / img_height\n",
        "\n",
        "        category_id = ann['category_id']\n",
        "        class_id = class_map.get(categories.get(category_id), -1)\n",
        "        if class_id == -1:\n",
        "            print(f\"Категория с ID {category_id} не найдена в class_map!\")\n",
        "            continue\n",
        "\n",
        "        src_img_path = os.path.join(source_dir, filename)\n",
        "        if os.path.exists(src_img_path):\n",
        "            dst_img_path = os.path.join(images_dir, filename)\n",
        "            Path(dst_img_path).parent.mkdir(parents=True, exist_ok=True)\n",
        "            shutil.copy(src_img_path, dst_img_path)\n",
        "            images_copied += 1\n",
        "        else:\n",
        "            print(f\"Изображение {filename} не найдено в {source_dir}!\")\n",
        "\n",
        "        label_filename = os.path.splitext(filename)[0] + '.txt'\n",
        "        label_path = os.path.join(labels_dir, label_filename)\n",
        "        with open(label_path, 'a') as f:\n",
        "            f.write(f\"{class_id} {x_center} {y_center} {normalized_width} {normalized_height}\\n\")\n",
        "            labels_created += 1\n",
        "\n",
        "    print(f\"Скопировано {images_copied} изображений, создано {labels_created} аннотаций в {labels_dir}\")\n",
        "\n",
        "# Выполнение конвертации\n",
        "coco_to_yolo(coco_train_path, images_train_path, labels_train_path, source_train_path)\n",
        "coco_to_yolo(coco_val_path, images_val_path, labels_val_path, source_val_path)\n",
        "\n",
        "print(\"Конвертация завершена. Проверьте папки images и labels.\")"
      ],
      "metadata": {
        "colab": {
          "base_uri": "https://localhost:8080/"
        },
        "id": "WbzDM4pf7uGJ",
        "outputId": "6aa59b02-046e-4327-f877-a733ac9a8634"
      },
      "execution_count": 21,
      "outputs": [
        {
          "output_type": "stream",
          "name": "stdout",
          "text": [
            "Скопировано 9150 изображений, создано 9150 аннотаций в /content/drive/MyDrive/Детекция/wind-turbine-damage-challenges/Wind Turbine damage/yolo_wind/labels/train\n",
            "Скопировано 2619 изображений, создано 2619 аннотаций в /content/drive/MyDrive/Детекция/wind-turbine-damage-challenges/Wind Turbine damage/yolo_wind/labels/val\n",
            "Конвертация завершена. Проверьте папки images и labels.\n"
          ]
        }
      ]
    },
    {
      "cell_type": "code",
      "source": [
        "from ultralytics import YOLO"
      ],
      "metadata": {
        "colab": {
          "base_uri": "https://localhost:8080/"
        },
        "id": "IkhdioQr5dV6",
        "outputId": "9cfca3a4-a352-4dda-c816-7ceb801b9ec5"
      },
      "execution_count": 18,
      "outputs": [
        {
          "output_type": "stream",
          "name": "stdout",
          "text": [
            "Creating new Ultralytics Settings v0.0.6 file ✅ \n",
            "View Ultralytics Settings with 'yolo settings' or at '/root/.config/Ultralytics/settings.json'\n",
            "Update Settings with 'yolo settings key=value', i.e. 'yolo settings runs_dir=path/to/dir'. For help see https://docs.ultralytics.com/quickstart/#ultralytics-settings.\n"
          ]
        }
      ]
    },
    {
      "cell_type": "code",
      "execution_count": null,
      "metadata": {
        "colab": {
          "base_uri": "https://localhost:8080/"
        },
        "id": "_VXOHP5MuwZQ",
        "outputId": "0d1434da-de83-4d40-dfa9-3acb4ac5b1b1"
      },
      "outputs": [
        {
          "output_type": "stream",
          "name": "stdout",
          "text": [
            "Используется CPU\n",
            "Ultralytics 8.3.153 🚀 Python-3.11.13 torch-2.6.0+cu124 CPU (Intel Xeon 2.20GHz)\n",
            "\u001b[34m\u001b[1mengine/trainer: \u001b[0magnostic_nms=False, amp=True, augment=False, auto_augment=randaugment, batch=16, bgr=0.0, box=7.5, cache=False, cfg=None, classes=None, close_mosaic=10, cls=0.5, conf=None, copy_paste=0.0, copy_paste_mode=flip, cos_lr=False, cutmix=0.0, data=/content/drive/MyDrive/Детекция/wind-turbine-damage-challenges/Wind Turbine damage/yolo_wind/wind_turbine.yaml, degrees=0.0, deterministic=True, device=cpu, dfl=1.5, dnn=False, dropout=0.0, dynamic=False, embed=None, epochs=15, erasing=0.4, exist_ok=False, fliplr=0.5, flipud=0.0, format=torchscript, fraction=1.0, freeze=None, half=False, hsv_h=0.015, hsv_s=0.7, hsv_v=0.4, imgsz=416, int8=False, iou=0.7, keras=False, kobj=1.0, line_width=None, lr0=0.01, lrf=0.01, mask_ratio=4, max_det=300, mixup=0.0, mode=train, model=yolov8n.pt, momentum=0.937, mosaic=1.0, multi_scale=False, name=train2, nbs=64, nms=False, opset=None, optimize=False, optimizer=auto, overlap_mask=True, patience=100, perspective=0.0, plots=True, pose=12.0, pretrained=True, profile=False, project=None, rect=False, resume=False, retina_masks=False, save=True, save_conf=False, save_crop=False, save_dir=runs/detect/train2, save_frames=False, save_json=False, save_period=-1, save_txt=False, scale=0.5, seed=0, shear=0.0, show=False, show_boxes=True, show_conf=True, show_labels=True, simplify=True, single_cls=False, source=None, split=val, stream_buffer=False, task=detect, time=None, tracker=botsort.yaml, translate=0.1, val=True, verbose=True, vid_stride=1, visualize=False, warmup_bias_lr=0.1, warmup_epochs=3.0, warmup_momentum=0.8, weight_decay=0.0005, workers=4, workspace=None\n",
            "Overriding model.yaml nc=80 with nc=5\n",
            "\n",
            "                   from  n    params  module                                       arguments                     \n",
            "  0                  -1  1       464  ultralytics.nn.modules.conv.Conv             [3, 16, 3, 2]                 \n",
            "  1                  -1  1      4672  ultralytics.nn.modules.conv.Conv             [16, 32, 3, 2]                \n",
            "  2                  -1  1      7360  ultralytics.nn.modules.block.C2f             [32, 32, 1, True]             \n",
            "  3                  -1  1     18560  ultralytics.nn.modules.conv.Conv             [32, 64, 3, 2]                \n",
            "  4                  -1  2     49664  ultralytics.nn.modules.block.C2f             [64, 64, 2, True]             \n",
            "  5                  -1  1     73984  ultralytics.nn.modules.conv.Conv             [64, 128, 3, 2]               \n",
            "  6                  -1  2    197632  ultralytics.nn.modules.block.C2f             [128, 128, 2, True]           \n",
            "  7                  -1  1    295424  ultralytics.nn.modules.conv.Conv             [128, 256, 3, 2]              \n",
            "  8                  -1  1    460288  ultralytics.nn.modules.block.C2f             [256, 256, 1, True]           \n",
            "  9                  -1  1    164608  ultralytics.nn.modules.block.SPPF            [256, 256, 5]                 \n",
            " 10                  -1  1         0  torch.nn.modules.upsampling.Upsample         [None, 2, 'nearest']          \n",
            " 11             [-1, 6]  1         0  ultralytics.nn.modules.conv.Concat           [1]                           \n",
            " 12                  -1  1    148224  ultralytics.nn.modules.block.C2f             [384, 128, 1]                 \n",
            " 13                  -1  1         0  torch.nn.modules.upsampling.Upsample         [None, 2, 'nearest']          \n",
            " 14             [-1, 4]  1         0  ultralytics.nn.modules.conv.Concat           [1]                           \n",
            " 15                  -1  1     37248  ultralytics.nn.modules.block.C2f             [192, 64, 1]                  \n",
            " 16                  -1  1     36992  ultralytics.nn.modules.conv.Conv             [64, 64, 3, 2]                \n",
            " 17            [-1, 12]  1         0  ultralytics.nn.modules.conv.Concat           [1]                           \n",
            " 18                  -1  1    123648  ultralytics.nn.modules.block.C2f             [192, 128, 1]                 \n",
            " 19                  -1  1    147712  ultralytics.nn.modules.conv.Conv             [128, 128, 3, 2]              \n",
            " 20             [-1, 9]  1         0  ultralytics.nn.modules.conv.Concat           [1]                           \n",
            " 21                  -1  1    493056  ultralytics.nn.modules.block.C2f             [384, 256, 1]                 \n",
            " 22        [15, 18, 21]  1    752287  ultralytics.nn.modules.head.Detect           [5, [64, 128, 256]]           \n",
            "Model summary: 129 layers, 3,011,823 parameters, 3,011,807 gradients, 8.2 GFLOPs\n",
            "\n",
            "Transferred 319/355 items from pretrained weights\n",
            "Freezing layer 'model.22.dfl.conv.weight'\n",
            "\u001b[34m\u001b[1mtrain: \u001b[0mFast image access ✅ (ping: 2.6±1.8 ms, read: 75.8±55.4 MB/s, size: 1201.6 KB)\n"
          ]
        },
        {
          "output_type": "stream",
          "name": "stderr",
          "text": [
            "\u001b[34m\u001b[1mtrain: \u001b[0mScanning /content/drive/MyDrive/Детекция/wind-turbine-damage-challenges/Wind Turbine damage/yolo_wind/labels/train... 94 images, 0 backgrounds, 0 corrupt:  12%|█▏        | 94/754 [00:04<00:09, 70.11it/s]/usr/local/lib/python3.11/dist-packages/PIL/Image.py:3442: DecompressionBombWarning: Image size (149817600 pixels) exceeds limit of 89478485 pixels, could be decompression bomb DOS attack.\n",
            "  warnings.warn(\n",
            "\u001b[34m\u001b[1mtrain: \u001b[0mScanning /content/drive/MyDrive/Детекция/wind-turbine-damage-challenges/Wind Turbine damage/yolo_wind/labels/train... 754 images, 0 backgrounds, 0 corrupt: 100%|██████████| 754/754 [00:11<00:00, 66.39it/s]\n"
          ]
        },
        {
          "output_type": "stream",
          "name": "stdout",
          "text": [
            "\u001b[34m\u001b[1mtrain: \u001b[0mNew cache created: /content/drive/MyDrive/Детекция/wind-turbine-damage-challenges/Wind Turbine damage/yolo_wind/labels/train.cache\n",
            "\u001b[34m\u001b[1malbumentations: \u001b[0mBlur(p=0.01, blur_limit=(3, 7)), MedianBlur(p=0.01, blur_limit=(3, 7)), ToGray(p=0.01, method='weighted_average', num_output_channels=3), CLAHE(p=0.01, clip_limit=(1.0, 4.0), tile_grid_size=(8, 8))\n",
            "\u001b[34m\u001b[1mval: \u001b[0mFast image access ✅ (ping: 9.6±20.3 ms, read: 83.8±151.8 MB/s, size: 1287.3 KB)\n"
          ]
        },
        {
          "output_type": "stream",
          "name": "stderr",
          "text": [
            "\u001b[34m\u001b[1mval: \u001b[0mScanning /content/drive/MyDrive/Детекция/wind-turbine-damage-challenges/Wind Turbine damage/yolo_wind/labels/val... 185 images, 0 backgrounds, 0 corrupt: 100%|██████████| 185/185 [00:01<00:00, 92.87it/s]\n"
          ]
        },
        {
          "output_type": "stream",
          "name": "stdout",
          "text": [
            "\u001b[34m\u001b[1mval: \u001b[0mNew cache created: /content/drive/MyDrive/Детекция/wind-turbine-damage-challenges/Wind Turbine damage/yolo_wind/labels/val.cache\n",
            "Plotting labels to runs/detect/train2/labels.jpg... \n",
            "\u001b[34m\u001b[1moptimizer:\u001b[0m 'optimizer=auto' found, ignoring 'lr0=0.01' and 'momentum=0.937' and determining best 'optimizer', 'lr0' and 'momentum' automatically... \n",
            "\u001b[34m\u001b[1moptimizer:\u001b[0m AdamW(lr=0.001111, momentum=0.9) with parameter groups 57 weight(decay=0.0), 64 weight(decay=0.0005), 63 bias(decay=0.0)\n",
            "Image sizes 416 train, 416 val\n",
            "Using 0 dataloader workers\n",
            "Logging results to \u001b[1mruns/detect/train2\u001b[0m\n",
            "Starting training for 15 epochs...\n",
            "\n",
            "      Epoch    GPU_mem   box_loss   cls_loss   dfl_loss  Instances       Size\n"
          ]
        },
        {
          "output_type": "stream",
          "name": "stderr",
          "text": [
            "       1/15         0G      3.468      10.06      1.263          9        416: 100%|██████████| 48/48 [05:47<00:00,  7.23s/it]\n",
            "                 Class     Images  Instances      Box(P          R      mAP50  mAP50-95): 100%|██████████| 6/6 [00:41<00:00,  6.99s/it]"
          ]
        },
        {
          "output_type": "stream",
          "name": "stdout",
          "text": [
            "                   all        185       2619    7.9e-05   0.000372   3.96e-05   1.38e-05\n"
          ]
        },
        {
          "output_type": "stream",
          "name": "stderr",
          "text": [
            "\n"
          ]
        },
        {
          "output_type": "stream",
          "name": "stdout",
          "text": [
            "\n",
            "      Epoch    GPU_mem   box_loss   cls_loss   dfl_loss  Instances       Size\n"
          ]
        },
        {
          "output_type": "stream",
          "name": "stderr",
          "text": [
            "       2/15         0G      3.689       6.87      1.131         11        416: 100%|██████████| 48/48 [05:40<00:00,  7.10s/it]\n",
            "                 Class     Images  Instances      Box(P          R      mAP50  mAP50-95): 100%|██████████| 6/6 [00:41<00:00,  6.94s/it]"
          ]
        },
        {
          "output_type": "stream",
          "name": "stdout",
          "text": [
            "                   all        185       2619      0.928    0.00367    0.00484    0.00205\n"
          ]
        },
        {
          "output_type": "stream",
          "name": "stderr",
          "text": [
            "\n"
          ]
        },
        {
          "output_type": "stream",
          "name": "stdout",
          "text": [
            "\n",
            "      Epoch    GPU_mem   box_loss   cls_loss   dfl_loss  Instances       Size\n"
          ]
        },
        {
          "output_type": "stream",
          "name": "stderr",
          "text": [
            "       3/15         0G       3.73      5.913       1.15         15        416: 100%|██████████| 48/48 [05:39<00:00,  7.07s/it]\n",
            "                 Class     Images  Instances      Box(P          R      mAP50  mAP50-95): 100%|██████████| 6/6 [00:40<00:00,  6.69s/it]"
          ]
        },
        {
          "output_type": "stream",
          "name": "stdout",
          "text": [
            "                   all        185       2619    0.00113     0.0222    0.00815    0.00499\n"
          ]
        },
        {
          "output_type": "stream",
          "name": "stderr",
          "text": [
            "\n"
          ]
        },
        {
          "output_type": "stream",
          "name": "stdout",
          "text": [
            "\n",
            "      Epoch    GPU_mem   box_loss   cls_loss   dfl_loss  Instances       Size\n"
          ]
        },
        {
          "output_type": "stream",
          "name": "stderr",
          "text": [
            "       4/15         0G      3.639      4.883      1.138         24        416: 100%|██████████| 48/48 [05:38<00:00,  7.06s/it]\n",
            "                 Class     Images  Instances      Box(P          R      mAP50  mAP50-95): 100%|██████████| 6/6 [00:42<00:00,  7.15s/it]"
          ]
        },
        {
          "output_type": "stream",
          "name": "stdout",
          "text": [
            "                   all        185       2619      0.717     0.0111    0.00959    0.00473\n"
          ]
        },
        {
          "output_type": "stream",
          "name": "stderr",
          "text": [
            "\n"
          ]
        },
        {
          "output_type": "stream",
          "name": "stdout",
          "text": [
            "\n",
            "      Epoch    GPU_mem   box_loss   cls_loss   dfl_loss  Instances       Size\n"
          ]
        },
        {
          "output_type": "stream",
          "name": "stderr",
          "text": [
            "       5/15         0G      3.664      4.474      1.098          7        416: 100%|██████████| 48/48 [05:44<00:00,  7.18s/it]\n",
            "                 Class     Images  Instances      Box(P          R      mAP50  mAP50-95): 100%|██████████| 6/6 [00:49<00:00,  8.19s/it]"
          ]
        },
        {
          "output_type": "stream",
          "name": "stdout",
          "text": [
            "                   all        185       2619      0.647     0.0227     0.0325     0.0165\n"
          ]
        },
        {
          "output_type": "stream",
          "name": "stderr",
          "text": [
            "\n"
          ]
        },
        {
          "output_type": "stream",
          "name": "stdout",
          "text": [
            "Closing dataloader mosaic\n",
            "\u001b[34m\u001b[1malbumentations: \u001b[0mBlur(p=0.01, blur_limit=(3, 7)), MedianBlur(p=0.01, blur_limit=(3, 7)), ToGray(p=0.01, method='weighted_average', num_output_channels=3), CLAHE(p=0.01, clip_limit=(1.0, 4.0), tile_grid_size=(8, 8))\n",
            "\n",
            "      Epoch    GPU_mem   box_loss   cls_loss   dfl_loss  Instances       Size\n"
          ]
        },
        {
          "output_type": "stream",
          "name": "stderr",
          "text": [
            "       6/15         0G      3.644      4.876      1.426         50        416:   2%|▏         | 1/48 [00:06<05:11,  6.62s/it]"
          ]
        }
      ],
      "source": [
        "if torch.cuda.is_available():\n",
        "    device = 'cuda'\n",
        "    device_id = '0'\n",
        "    print(f\"Используется GPU: {torch.cuda.get_device_name(0)}\")\n",
        "else:\n",
        "    device = 'cpu'\n",
        "    device_id = 'cpu'\n",
        "    print(\"Используется CPU\")\n",
        "\n",
        "base_path = '/content/drive/MyDrive/Детекция/wind-turbine-damage-challenges/Wind Turbine damage/yolo_wind'\n",
        "model = YOLO('yolov8n.pt')\n",
        "\n",
        "try:\n",
        "    results = model.train(\n",
        "        data=os.path.join(base_path, 'wind_turbine.yaml'),\n",
        "        epochs=15,          # Уменьшено с 30 до 15\n",
        "        batch=16,           # Уменьшено с 64 до 16\n",
        "        imgsz=416,          # Уменьшено с 640 до 416\n",
        "        device=device_id,\n",
        "        workers=4           # Уменьшено с 8 до 4\n",
        "    )\n",
        "except Exception as e:\n",
        "    print(f\"Ошибка при обучении: {e}\")"
      ]
    },
    {
      "cell_type": "markdown",
      "source": [
        "# Предсказание"
      ],
      "metadata": {
        "id": "POm54R8c7-W8"
      }
    },
    {
      "cell_type": "code",
      "source": [
        "best_model = YOLO(os.path.join('runs', 'detect', 'train', 'weights', 'best.pt'))"
      ],
      "metadata": {
        "id": "3Cjiabdl7NiH",
        "colab": {
          "base_uri": "https://localhost:8080/",
          "height": 298
        },
        "outputId": "db533527-3c10-4c80-e9f1-9d03802eaed3"
      },
      "execution_count": 20,
      "outputs": [
        {
          "output_type": "error",
          "ename": "FileNotFoundError",
          "evalue": "[Errno 2] No such file or directory: 'runs/detect/train/weights/best.pt'",
          "traceback": [
            "\u001b[0;31m---------------------------------------------------------------------------\u001b[0m",
            "\u001b[0;31mFileNotFoundError\u001b[0m                         Traceback (most recent call last)",
            "\u001b[0;32m<ipython-input-20-752006335>\u001b[0m in \u001b[0;36m<cell line: 0>\u001b[0;34m()\u001b[0m\n\u001b[0;32m----> 1\u001b[0;31m \u001b[0mbest_model\u001b[0m \u001b[0;34m=\u001b[0m \u001b[0mYOLO\u001b[0m\u001b[0;34m(\u001b[0m\u001b[0mos\u001b[0m\u001b[0;34m.\u001b[0m\u001b[0mpath\u001b[0m\u001b[0;34m.\u001b[0m\u001b[0mjoin\u001b[0m\u001b[0;34m(\u001b[0m\u001b[0;34m'runs'\u001b[0m\u001b[0;34m,\u001b[0m \u001b[0;34m'detect'\u001b[0m\u001b[0;34m,\u001b[0m \u001b[0;34m'train'\u001b[0m\u001b[0;34m,\u001b[0m \u001b[0;34m'weights'\u001b[0m\u001b[0;34m,\u001b[0m \u001b[0;34m'best.pt'\u001b[0m\u001b[0;34m)\u001b[0m\u001b[0;34m)\u001b[0m\u001b[0;34m\u001b[0m\u001b[0;34m\u001b[0m\u001b[0m\n\u001b[0m",
            "\u001b[0;32m/usr/local/lib/python3.11/dist-packages/ultralytics/models/yolo/model.py\u001b[0m in \u001b[0;36m__init__\u001b[0;34m(self, model, task, verbose)\u001b[0m\n\u001b[1;32m     77\u001b[0m         \u001b[0;32melse\u001b[0m\u001b[0;34m:\u001b[0m\u001b[0;34m\u001b[0m\u001b[0;34m\u001b[0m\u001b[0m\n\u001b[1;32m     78\u001b[0m             \u001b[0;31m# Continue with default YOLO initialization\u001b[0m\u001b[0;34m\u001b[0m\u001b[0;34m\u001b[0m\u001b[0m\n\u001b[0;32m---> 79\u001b[0;31m             \u001b[0msuper\u001b[0m\u001b[0;34m(\u001b[0m\u001b[0;34m)\u001b[0m\u001b[0;34m.\u001b[0m\u001b[0m__init__\u001b[0m\u001b[0;34m(\u001b[0m\u001b[0mmodel\u001b[0m\u001b[0;34m=\u001b[0m\u001b[0mmodel\u001b[0m\u001b[0;34m,\u001b[0m \u001b[0mtask\u001b[0m\u001b[0;34m=\u001b[0m\u001b[0mtask\u001b[0m\u001b[0;34m,\u001b[0m \u001b[0mverbose\u001b[0m\u001b[0;34m=\u001b[0m\u001b[0mverbose\u001b[0m\u001b[0;34m)\u001b[0m\u001b[0;34m\u001b[0m\u001b[0;34m\u001b[0m\u001b[0m\n\u001b[0m\u001b[1;32m     80\u001b[0m             \u001b[0;32mif\u001b[0m \u001b[0mhasattr\u001b[0m\u001b[0;34m(\u001b[0m\u001b[0mself\u001b[0m\u001b[0;34m.\u001b[0m\u001b[0mmodel\u001b[0m\u001b[0;34m,\u001b[0m \u001b[0;34m\"model\"\u001b[0m\u001b[0;34m)\u001b[0m \u001b[0;32mand\u001b[0m \u001b[0;34m\"RTDETR\"\u001b[0m \u001b[0;32min\u001b[0m \u001b[0mself\u001b[0m\u001b[0;34m.\u001b[0m\u001b[0mmodel\u001b[0m\u001b[0;34m.\u001b[0m\u001b[0mmodel\u001b[0m\u001b[0;34m[\u001b[0m\u001b[0;34m-\u001b[0m\u001b[0;36m1\u001b[0m\u001b[0;34m]\u001b[0m\u001b[0;34m.\u001b[0m\u001b[0m_get_name\u001b[0m\u001b[0;34m(\u001b[0m\u001b[0;34m)\u001b[0m\u001b[0;34m:\u001b[0m  \u001b[0;31m# if RTDETR head\u001b[0m\u001b[0;34m\u001b[0m\u001b[0;34m\u001b[0m\u001b[0m\n\u001b[1;32m     81\u001b[0m                 \u001b[0;32mfrom\u001b[0m \u001b[0multralytics\u001b[0m \u001b[0;32mimport\u001b[0m \u001b[0mRTDETR\u001b[0m\u001b[0;34m\u001b[0m\u001b[0;34m\u001b[0m\u001b[0m\n",
            "\u001b[0;32m/usr/local/lib/python3.11/dist-packages/ultralytics/engine/model.py\u001b[0m in \u001b[0;36m__init__\u001b[0;34m(self, model, task, verbose)\u001b[0m\n\u001b[1;32m    149\u001b[0m             \u001b[0mself\u001b[0m\u001b[0;34m.\u001b[0m\u001b[0m_new\u001b[0m\u001b[0;34m(\u001b[0m\u001b[0mmodel\u001b[0m\u001b[0;34m,\u001b[0m \u001b[0mtask\u001b[0m\u001b[0;34m=\u001b[0m\u001b[0mtask\u001b[0m\u001b[0;34m,\u001b[0m \u001b[0mverbose\u001b[0m\u001b[0;34m=\u001b[0m\u001b[0mverbose\u001b[0m\u001b[0;34m)\u001b[0m\u001b[0;34m\u001b[0m\u001b[0;34m\u001b[0m\u001b[0m\n\u001b[1;32m    150\u001b[0m         \u001b[0;32melse\u001b[0m\u001b[0;34m:\u001b[0m\u001b[0;34m\u001b[0m\u001b[0;34m\u001b[0m\u001b[0m\n\u001b[0;32m--> 151\u001b[0;31m             \u001b[0mself\u001b[0m\u001b[0;34m.\u001b[0m\u001b[0m_load\u001b[0m\u001b[0;34m(\u001b[0m\u001b[0mmodel\u001b[0m\u001b[0;34m,\u001b[0m \u001b[0mtask\u001b[0m\u001b[0;34m=\u001b[0m\u001b[0mtask\u001b[0m\u001b[0;34m)\u001b[0m\u001b[0;34m\u001b[0m\u001b[0;34m\u001b[0m\u001b[0m\n\u001b[0m\u001b[1;32m    152\u001b[0m \u001b[0;34m\u001b[0m\u001b[0m\n\u001b[1;32m    153\u001b[0m         \u001b[0;31m# Delete super().training for accessing self.model.training\u001b[0m\u001b[0;34m\u001b[0m\u001b[0;34m\u001b[0m\u001b[0m\n",
            "\u001b[0;32m/usr/local/lib/python3.11/dist-packages/ultralytics/engine/model.py\u001b[0m in \u001b[0;36m_load\u001b[0;34m(self, weights, task)\u001b[0m\n\u001b[1;32m    293\u001b[0m \u001b[0;34m\u001b[0m\u001b[0m\n\u001b[1;32m    294\u001b[0m         \u001b[0;32mif\u001b[0m \u001b[0mstr\u001b[0m\u001b[0;34m(\u001b[0m\u001b[0mweights\u001b[0m\u001b[0;34m)\u001b[0m\u001b[0;34m.\u001b[0m\u001b[0mrpartition\u001b[0m\u001b[0;34m(\u001b[0m\u001b[0;34m\".\"\u001b[0m\u001b[0;34m)\u001b[0m\u001b[0;34m[\u001b[0m\u001b[0;34m-\u001b[0m\u001b[0;36m1\u001b[0m\u001b[0;34m]\u001b[0m \u001b[0;34m==\u001b[0m \u001b[0;34m\"pt\"\u001b[0m\u001b[0;34m:\u001b[0m\u001b[0;34m\u001b[0m\u001b[0;34m\u001b[0m\u001b[0m\n\u001b[0;32m--> 295\u001b[0;31m             \u001b[0mself\u001b[0m\u001b[0;34m.\u001b[0m\u001b[0mmodel\u001b[0m\u001b[0;34m,\u001b[0m \u001b[0mself\u001b[0m\u001b[0;34m.\u001b[0m\u001b[0mckpt\u001b[0m \u001b[0;34m=\u001b[0m \u001b[0mattempt_load_one_weight\u001b[0m\u001b[0;34m(\u001b[0m\u001b[0mweights\u001b[0m\u001b[0;34m)\u001b[0m\u001b[0;34m\u001b[0m\u001b[0;34m\u001b[0m\u001b[0m\n\u001b[0m\u001b[1;32m    296\u001b[0m             \u001b[0mself\u001b[0m\u001b[0;34m.\u001b[0m\u001b[0mtask\u001b[0m \u001b[0;34m=\u001b[0m \u001b[0mself\u001b[0m\u001b[0;34m.\u001b[0m\u001b[0mmodel\u001b[0m\u001b[0;34m.\u001b[0m\u001b[0mtask\u001b[0m\u001b[0;34m\u001b[0m\u001b[0;34m\u001b[0m\u001b[0m\n\u001b[1;32m    297\u001b[0m             \u001b[0mself\u001b[0m\u001b[0;34m.\u001b[0m\u001b[0moverrides\u001b[0m \u001b[0;34m=\u001b[0m \u001b[0mself\u001b[0m\u001b[0;34m.\u001b[0m\u001b[0mmodel\u001b[0m\u001b[0;34m.\u001b[0m\u001b[0margs\u001b[0m \u001b[0;34m=\u001b[0m \u001b[0mself\u001b[0m\u001b[0;34m.\u001b[0m\u001b[0m_reset_ckpt_args\u001b[0m\u001b[0;34m(\u001b[0m\u001b[0mself\u001b[0m\u001b[0;34m.\u001b[0m\u001b[0mmodel\u001b[0m\u001b[0;34m.\u001b[0m\u001b[0margs\u001b[0m\u001b[0;34m)\u001b[0m\u001b[0;34m\u001b[0m\u001b[0;34m\u001b[0m\u001b[0m\n",
            "\u001b[0;32m/usr/local/lib/python3.11/dist-packages/ultralytics/nn/tasks.py\u001b[0m in \u001b[0;36mattempt_load_one_weight\u001b[0;34m(weight, device, inplace, fuse)\u001b[0m\n\u001b[1;32m   1547\u001b[0m         \u001b[0mckpt\u001b[0m \u001b[0;34m(\u001b[0m\u001b[0mdict\u001b[0m\u001b[0;34m)\u001b[0m\u001b[0;34m:\u001b[0m \u001b[0mModel\u001b[0m \u001b[0mcheckpoint\u001b[0m \u001b[0mdictionary\u001b[0m\u001b[0;34m.\u001b[0m\u001b[0;34m\u001b[0m\u001b[0;34m\u001b[0m\u001b[0m\n\u001b[1;32m   1548\u001b[0m     \"\"\"\n\u001b[0;32m-> 1549\u001b[0;31m     \u001b[0mckpt\u001b[0m\u001b[0;34m,\u001b[0m \u001b[0mweight\u001b[0m \u001b[0;34m=\u001b[0m \u001b[0mtorch_safe_load\u001b[0m\u001b[0;34m(\u001b[0m\u001b[0mweight\u001b[0m\u001b[0;34m)\u001b[0m  \u001b[0;31m# load ckpt\u001b[0m\u001b[0;34m\u001b[0m\u001b[0;34m\u001b[0m\u001b[0m\n\u001b[0m\u001b[1;32m   1550\u001b[0m     \u001b[0margs\u001b[0m \u001b[0;34m=\u001b[0m \u001b[0;34m{\u001b[0m\u001b[0;34m**\u001b[0m\u001b[0mDEFAULT_CFG_DICT\u001b[0m\u001b[0;34m,\u001b[0m \u001b[0;34m**\u001b[0m\u001b[0;34m(\u001b[0m\u001b[0mckpt\u001b[0m\u001b[0;34m.\u001b[0m\u001b[0mget\u001b[0m\u001b[0;34m(\u001b[0m\u001b[0;34m\"train_args\"\u001b[0m\u001b[0;34m,\u001b[0m \u001b[0;34m{\u001b[0m\u001b[0;34m}\u001b[0m\u001b[0;34m)\u001b[0m\u001b[0;34m)\u001b[0m\u001b[0;34m}\u001b[0m  \u001b[0;31m# combine model and default args, preferring model args\u001b[0m\u001b[0;34m\u001b[0m\u001b[0;34m\u001b[0m\u001b[0m\n\u001b[1;32m   1551\u001b[0m     \u001b[0mmodel\u001b[0m \u001b[0;34m=\u001b[0m \u001b[0;34m(\u001b[0m\u001b[0mckpt\u001b[0m\u001b[0;34m.\u001b[0m\u001b[0mget\u001b[0m\u001b[0;34m(\u001b[0m\u001b[0;34m\"ema\"\u001b[0m\u001b[0;34m)\u001b[0m \u001b[0;32mor\u001b[0m \u001b[0mckpt\u001b[0m\u001b[0;34m[\u001b[0m\u001b[0;34m\"model\"\u001b[0m\u001b[0;34m]\u001b[0m\u001b[0;34m)\u001b[0m\u001b[0;34m.\u001b[0m\u001b[0mto\u001b[0m\u001b[0;34m(\u001b[0m\u001b[0mdevice\u001b[0m\u001b[0;34m)\u001b[0m\u001b[0;34m.\u001b[0m\u001b[0mfloat\u001b[0m\u001b[0;34m(\u001b[0m\u001b[0;34m)\u001b[0m  \u001b[0;31m# FP32 model\u001b[0m\u001b[0;34m\u001b[0m\u001b[0;34m\u001b[0m\u001b[0m\n",
            "\u001b[0;32m/usr/local/lib/python3.11/dist-packages/ultralytics/nn/tasks.py\u001b[0m in \u001b[0;36mtorch_safe_load\u001b[0;34m(weight, safe_only)\u001b[0m\n\u001b[1;32m   1445\u001b[0m                     \u001b[0mckpt\u001b[0m \u001b[0;34m=\u001b[0m \u001b[0mtorch\u001b[0m\u001b[0;34m.\u001b[0m\u001b[0mload\u001b[0m\u001b[0;34m(\u001b[0m\u001b[0mf\u001b[0m\u001b[0;34m,\u001b[0m \u001b[0mpickle_module\u001b[0m\u001b[0;34m=\u001b[0m\u001b[0msafe_pickle\u001b[0m\u001b[0;34m)\u001b[0m\u001b[0;34m\u001b[0m\u001b[0;34m\u001b[0m\u001b[0m\n\u001b[1;32m   1446\u001b[0m             \u001b[0;32melse\u001b[0m\u001b[0;34m:\u001b[0m\u001b[0;34m\u001b[0m\u001b[0;34m\u001b[0m\u001b[0m\n\u001b[0;32m-> 1447\u001b[0;31m                 \u001b[0mckpt\u001b[0m \u001b[0;34m=\u001b[0m \u001b[0mtorch\u001b[0m\u001b[0;34m.\u001b[0m\u001b[0mload\u001b[0m\u001b[0;34m(\u001b[0m\u001b[0mfile\u001b[0m\u001b[0;34m,\u001b[0m \u001b[0mmap_location\u001b[0m\u001b[0;34m=\u001b[0m\u001b[0;34m\"cpu\"\u001b[0m\u001b[0;34m)\u001b[0m\u001b[0;34m\u001b[0m\u001b[0;34m\u001b[0m\u001b[0m\n\u001b[0m\u001b[1;32m   1448\u001b[0m \u001b[0;34m\u001b[0m\u001b[0m\n\u001b[1;32m   1449\u001b[0m     \u001b[0;32mexcept\u001b[0m \u001b[0mModuleNotFoundError\u001b[0m \u001b[0;32mas\u001b[0m \u001b[0me\u001b[0m\u001b[0;34m:\u001b[0m  \u001b[0;31m# e.name is missing module name\u001b[0m\u001b[0;34m\u001b[0m\u001b[0;34m\u001b[0m\u001b[0m\n",
            "\u001b[0;32m/usr/local/lib/python3.11/dist-packages/ultralytics/utils/patches.py\u001b[0m in \u001b[0;36mtorch_load\u001b[0;34m(*args, **kwargs)\u001b[0m\n\u001b[1;32m    115\u001b[0m         \u001b[0mkwargs\u001b[0m\u001b[0;34m[\u001b[0m\u001b[0;34m\"weights_only\"\u001b[0m\u001b[0;34m]\u001b[0m \u001b[0;34m=\u001b[0m \u001b[0;32mFalse\u001b[0m\u001b[0;34m\u001b[0m\u001b[0;34m\u001b[0m\u001b[0m\n\u001b[1;32m    116\u001b[0m \u001b[0;34m\u001b[0m\u001b[0m\n\u001b[0;32m--> 117\u001b[0;31m     \u001b[0;32mreturn\u001b[0m \u001b[0m_torch_load\u001b[0m\u001b[0;34m(\u001b[0m\u001b[0;34m*\u001b[0m\u001b[0margs\u001b[0m\u001b[0;34m,\u001b[0m \u001b[0;34m**\u001b[0m\u001b[0mkwargs\u001b[0m\u001b[0;34m)\u001b[0m\u001b[0;34m\u001b[0m\u001b[0;34m\u001b[0m\u001b[0m\n\u001b[0m\u001b[1;32m    118\u001b[0m \u001b[0;34m\u001b[0m\u001b[0m\n\u001b[1;32m    119\u001b[0m \u001b[0;34m\u001b[0m\u001b[0m\n",
            "\u001b[0;32m/usr/local/lib/python3.11/dist-packages/torch/serialization.py\u001b[0m in \u001b[0;36mload\u001b[0;34m(f, map_location, pickle_module, weights_only, mmap, **pickle_load_args)\u001b[0m\n\u001b[1;32m   1423\u001b[0m         \u001b[0mpickle_load_args\u001b[0m\u001b[0;34m[\u001b[0m\u001b[0;34m\"encoding\"\u001b[0m\u001b[0;34m]\u001b[0m \u001b[0;34m=\u001b[0m \u001b[0;34m\"utf-8\"\u001b[0m\u001b[0;34m\u001b[0m\u001b[0;34m\u001b[0m\u001b[0m\n\u001b[1;32m   1424\u001b[0m \u001b[0;34m\u001b[0m\u001b[0m\n\u001b[0;32m-> 1425\u001b[0;31m     \u001b[0;32mwith\u001b[0m \u001b[0m_open_file_like\u001b[0m\u001b[0;34m(\u001b[0m\u001b[0mf\u001b[0m\u001b[0;34m,\u001b[0m \u001b[0;34m\"rb\"\u001b[0m\u001b[0;34m)\u001b[0m \u001b[0;32mas\u001b[0m \u001b[0mopened_file\u001b[0m\u001b[0;34m:\u001b[0m\u001b[0;34m\u001b[0m\u001b[0;34m\u001b[0m\u001b[0m\n\u001b[0m\u001b[1;32m   1426\u001b[0m         \u001b[0;32mif\u001b[0m \u001b[0m_is_zipfile\u001b[0m\u001b[0;34m(\u001b[0m\u001b[0mopened_file\u001b[0m\u001b[0;34m)\u001b[0m\u001b[0;34m:\u001b[0m\u001b[0;34m\u001b[0m\u001b[0;34m\u001b[0m\u001b[0m\n\u001b[1;32m   1427\u001b[0m             \u001b[0;31m# The zipfile reader is going to advance the current file position.\u001b[0m\u001b[0;34m\u001b[0m\u001b[0;34m\u001b[0m\u001b[0m\n",
            "\u001b[0;32m/usr/local/lib/python3.11/dist-packages/torch/serialization.py\u001b[0m in \u001b[0;36m_open_file_like\u001b[0;34m(name_or_buffer, mode)\u001b[0m\n\u001b[1;32m    749\u001b[0m \u001b[0;32mdef\u001b[0m \u001b[0m_open_file_like\u001b[0m\u001b[0;34m(\u001b[0m\u001b[0mname_or_buffer\u001b[0m\u001b[0;34m,\u001b[0m \u001b[0mmode\u001b[0m\u001b[0;34m)\u001b[0m\u001b[0;34m:\u001b[0m\u001b[0;34m\u001b[0m\u001b[0;34m\u001b[0m\u001b[0m\n\u001b[1;32m    750\u001b[0m     \u001b[0;32mif\u001b[0m \u001b[0m_is_path\u001b[0m\u001b[0;34m(\u001b[0m\u001b[0mname_or_buffer\u001b[0m\u001b[0;34m)\u001b[0m\u001b[0;34m:\u001b[0m\u001b[0;34m\u001b[0m\u001b[0;34m\u001b[0m\u001b[0m\n\u001b[0;32m--> 751\u001b[0;31m         \u001b[0;32mreturn\u001b[0m \u001b[0m_open_file\u001b[0m\u001b[0;34m(\u001b[0m\u001b[0mname_or_buffer\u001b[0m\u001b[0;34m,\u001b[0m \u001b[0mmode\u001b[0m\u001b[0;34m)\u001b[0m\u001b[0;34m\u001b[0m\u001b[0;34m\u001b[0m\u001b[0m\n\u001b[0m\u001b[1;32m    752\u001b[0m     \u001b[0;32melse\u001b[0m\u001b[0;34m:\u001b[0m\u001b[0;34m\u001b[0m\u001b[0;34m\u001b[0m\u001b[0m\n\u001b[1;32m    753\u001b[0m         \u001b[0;32mif\u001b[0m \u001b[0;34m\"w\"\u001b[0m \u001b[0;32min\u001b[0m \u001b[0mmode\u001b[0m\u001b[0;34m:\u001b[0m\u001b[0;34m\u001b[0m\u001b[0;34m\u001b[0m\u001b[0m\n",
            "\u001b[0;32m/usr/local/lib/python3.11/dist-packages/torch/serialization.py\u001b[0m in \u001b[0;36m__init__\u001b[0;34m(self, name, mode)\u001b[0m\n\u001b[1;32m    730\u001b[0m \u001b[0;32mclass\u001b[0m \u001b[0m_open_file\u001b[0m\u001b[0;34m(\u001b[0m\u001b[0m_opener\u001b[0m\u001b[0;34m)\u001b[0m\u001b[0;34m:\u001b[0m\u001b[0;34m\u001b[0m\u001b[0;34m\u001b[0m\u001b[0m\n\u001b[1;32m    731\u001b[0m     \u001b[0;32mdef\u001b[0m \u001b[0m__init__\u001b[0m\u001b[0;34m(\u001b[0m\u001b[0mself\u001b[0m\u001b[0;34m,\u001b[0m \u001b[0mname\u001b[0m\u001b[0;34m,\u001b[0m \u001b[0mmode\u001b[0m\u001b[0;34m)\u001b[0m\u001b[0;34m:\u001b[0m\u001b[0;34m\u001b[0m\u001b[0;34m\u001b[0m\u001b[0m\n\u001b[0;32m--> 732\u001b[0;31m         \u001b[0msuper\u001b[0m\u001b[0;34m(\u001b[0m\u001b[0;34m)\u001b[0m\u001b[0;34m.\u001b[0m\u001b[0m__init__\u001b[0m\u001b[0;34m(\u001b[0m\u001b[0mopen\u001b[0m\u001b[0;34m(\u001b[0m\u001b[0mname\u001b[0m\u001b[0;34m,\u001b[0m \u001b[0mmode\u001b[0m\u001b[0;34m)\u001b[0m\u001b[0;34m)\u001b[0m\u001b[0;34m\u001b[0m\u001b[0;34m\u001b[0m\u001b[0m\n\u001b[0m\u001b[1;32m    733\u001b[0m \u001b[0;34m\u001b[0m\u001b[0m\n\u001b[1;32m    734\u001b[0m     \u001b[0;32mdef\u001b[0m \u001b[0m__exit__\u001b[0m\u001b[0;34m(\u001b[0m\u001b[0mself\u001b[0m\u001b[0;34m,\u001b[0m \u001b[0;34m*\u001b[0m\u001b[0margs\u001b[0m\u001b[0;34m)\u001b[0m\u001b[0;34m:\u001b[0m\u001b[0;34m\u001b[0m\u001b[0;34m\u001b[0m\u001b[0m\n",
            "\u001b[0;31mFileNotFoundError\u001b[0m: [Errno 2] No such file or directory: 'runs/detect/train/weights/best.pt'"
          ]
        }
      ]
    },
    {
      "cell_type": "code",
      "source": [
        "\n",
        "test_folder = '/content/drive/MyDrive/Wind Turbine damage/test'\n",
        "\n",
        "results = []\n",
        "\n",
        "for img_name in os.listdir(test_folder):\n",
        "    if not img_name.lower().endswith(('.png', '.jpg', '.jpeg')):\n",
        "        continue\n",
        "\n",
        "    img_path = os.path.join(test_folder, img_name)\n",
        "    img = cv2.imread(img_path)\n",
        "    if img is None:\n",
        "        continue\n",
        "\n",
        "    predictions = best_model.predict(img, conf=0.25)\n",
        "\n",
        "    img_objects = []\n",
        "    for pred in predictions:\n",
        "        for box in pred.boxes:\n",
        "            class_id = int(box.cls)\n",
        "            class_name = best_model.names[class_id]\n",
        "            conf = float(box.conf)\n",
        "            x1, y1, x2, y2 = box.xyxy[0].tolist()\n",
        "            w = x2 - x1\n",
        "            h = y2 - y1\n",
        "\n",
        "            img_objects.append([class_name, x1, y1, w, h, conf])\n",
        "\n",
        "    results.append({\n",
        "        \"image_id\": img_name,\n",
        "        \"objects\": img_objects\n",
        "    })\n",
        "\n",
        "df_results = pd.DataFrame(results)"
      ],
      "metadata": {
        "id": "qubTSHTXWf-5"
      },
      "execution_count": null,
      "outputs": []
    }
  ],
  "metadata": {
    "colab": {
      "provenance": []
    },
    "kernelspec": {
      "display_name": "Python 3",
      "name": "python3"
    },
    "language_info": {
      "name": "python"
    }
  },
  "nbformat": 4,
  "nbformat_minor": 0
}